{
 "cells": [
  {
   "cell_type": "code",
   "execution_count": 1,
   "id": "63a50918-b43c-4a9e-8531-d16f196ff531",
   "metadata": {},
   "outputs": [],
   "source": [
    "from sklearn.feature_extraction.text import CountVectorizer\n",
    "from sklearn.feature_extraction.text import TfidfTransformer\n",
    "from sklearn.naive_bayes import MultinomialNB # 다항분포 나이브 베이즈 모델\n",
    "from sklearn.metrics import accuracy_score #정확도 계산\n",
    "import tensorflow as tf\n",
    "import os\n",
    "import pandas as pd\n",
    "import numpy as np\n",
    "import matplotlib.pyplot as plt\n",
    "from sklearn.model_selection import train_test_split\n",
    "import re\n",
    "from tensorflow import keras\n",
    "from tqdm import tqdm\n",
    "from imblearn.over_sampling import SMOTE\n",
    "from imblearn.over_sampling import BorderlineSMOTE\n",
    "from imblearn.over_sampling import ADASYN"
   ]
  },
  {
   "cell_type": "code",
   "execution_count": 2,
   "id": "32d578a0-fdcf-4638-a59f-3e8446f2593a",
   "metadata": {},
   "outputs": [
    {
     "data": {
      "text/html": [
       "<div>\n",
       "<style scoped>\n",
       "    .dataframe tbody tr th:only-of-type {\n",
       "        vertical-align: middle;\n",
       "    }\n",
       "\n",
       "    .dataframe tbody tr th {\n",
       "        vertical-align: top;\n",
       "    }\n",
       "\n",
       "    .dataframe thead th {\n",
       "        text-align: right;\n",
       "    }\n",
       "</style>\n",
       "<table border=\"1\" class=\"dataframe\">\n",
       "  <thead>\n",
       "    <tr style=\"text-align: right;\">\n",
       "      <th></th>\n",
       "      <th>v1</th>\n",
       "      <th>v2</th>\n",
       "      <th>Unnamed: 2</th>\n",
       "      <th>Unnamed: 3</th>\n",
       "      <th>Unnamed: 4</th>\n",
       "    </tr>\n",
       "  </thead>\n",
       "  <tbody>\n",
       "    <tr>\n",
       "      <th>0</th>\n",
       "      <td>ham</td>\n",
       "      <td>Go until jurong point, crazy.. Available only ...</td>\n",
       "      <td>NaN</td>\n",
       "      <td>NaN</td>\n",
       "      <td>NaN</td>\n",
       "    </tr>\n",
       "    <tr>\n",
       "      <th>1</th>\n",
       "      <td>ham</td>\n",
       "      <td>Ok lar... Joking wif u oni...</td>\n",
       "      <td>NaN</td>\n",
       "      <td>NaN</td>\n",
       "      <td>NaN</td>\n",
       "    </tr>\n",
       "    <tr>\n",
       "      <th>2</th>\n",
       "      <td>spam</td>\n",
       "      <td>Free entry in 2 a wkly comp to win FA Cup fina...</td>\n",
       "      <td>NaN</td>\n",
       "      <td>NaN</td>\n",
       "      <td>NaN</td>\n",
       "    </tr>\n",
       "    <tr>\n",
       "      <th>3</th>\n",
       "      <td>ham</td>\n",
       "      <td>U dun say so early hor... U c already then say...</td>\n",
       "      <td>NaN</td>\n",
       "      <td>NaN</td>\n",
       "      <td>NaN</td>\n",
       "    </tr>\n",
       "    <tr>\n",
       "      <th>4</th>\n",
       "      <td>ham</td>\n",
       "      <td>Nah I don't think he goes to usf, he lives aro...</td>\n",
       "      <td>NaN</td>\n",
       "      <td>NaN</td>\n",
       "      <td>NaN</td>\n",
       "    </tr>\n",
       "    <tr>\n",
       "      <th>...</th>\n",
       "      <td>...</td>\n",
       "      <td>...</td>\n",
       "      <td>...</td>\n",
       "      <td>...</td>\n",
       "      <td>...</td>\n",
       "    </tr>\n",
       "    <tr>\n",
       "      <th>5567</th>\n",
       "      <td>spam</td>\n",
       "      <td>This is the 2nd time we have tried 2 contact u...</td>\n",
       "      <td>NaN</td>\n",
       "      <td>NaN</td>\n",
       "      <td>NaN</td>\n",
       "    </tr>\n",
       "    <tr>\n",
       "      <th>5568</th>\n",
       "      <td>ham</td>\n",
       "      <td>Will Ì_ b going to esplanade fr home?</td>\n",
       "      <td>NaN</td>\n",
       "      <td>NaN</td>\n",
       "      <td>NaN</td>\n",
       "    </tr>\n",
       "    <tr>\n",
       "      <th>5569</th>\n",
       "      <td>ham</td>\n",
       "      <td>Pity, * was in mood for that. So...any other s...</td>\n",
       "      <td>NaN</td>\n",
       "      <td>NaN</td>\n",
       "      <td>NaN</td>\n",
       "    </tr>\n",
       "    <tr>\n",
       "      <th>5570</th>\n",
       "      <td>ham</td>\n",
       "      <td>The guy did some bitching but I acted like i'd...</td>\n",
       "      <td>NaN</td>\n",
       "      <td>NaN</td>\n",
       "      <td>NaN</td>\n",
       "    </tr>\n",
       "    <tr>\n",
       "      <th>5571</th>\n",
       "      <td>ham</td>\n",
       "      <td>Rofl. Its true to its name</td>\n",
       "      <td>NaN</td>\n",
       "      <td>NaN</td>\n",
       "      <td>NaN</td>\n",
       "    </tr>\n",
       "  </tbody>\n",
       "</table>\n",
       "<p>5572 rows × 5 columns</p>\n",
       "</div>"
      ],
      "text/plain": [
       "        v1                                                 v2 Unnamed: 2  \\\n",
       "0      ham  Go until jurong point, crazy.. Available only ...        NaN   \n",
       "1      ham                      Ok lar... Joking wif u oni...        NaN   \n",
       "2     spam  Free entry in 2 a wkly comp to win FA Cup fina...        NaN   \n",
       "3      ham  U dun say so early hor... U c already then say...        NaN   \n",
       "4      ham  Nah I don't think he goes to usf, he lives aro...        NaN   \n",
       "...    ...                                                ...        ...   \n",
       "5567  spam  This is the 2nd time we have tried 2 contact u...        NaN   \n",
       "5568   ham              Will Ì_ b going to esplanade fr home?        NaN   \n",
       "5569   ham  Pity, * was in mood for that. So...any other s...        NaN   \n",
       "5570   ham  The guy did some bitching but I acted like i'd...        NaN   \n",
       "5571   ham                         Rofl. Its true to its name        NaN   \n",
       "\n",
       "     Unnamed: 3 Unnamed: 4  \n",
       "0           NaN        NaN  \n",
       "1           NaN        NaN  \n",
       "2           NaN        NaN  \n",
       "3           NaN        NaN  \n",
       "4           NaN        NaN  \n",
       "...         ...        ...  \n",
       "5567        NaN        NaN  \n",
       "5568        NaN        NaN  \n",
       "5569        NaN        NaN  \n",
       "5570        NaN        NaN  \n",
       "5571        NaN        NaN  \n",
       "\n",
       "[5572 rows x 5 columns]"
      ]
     },
     "execution_count": 2,
     "metadata": {},
     "output_type": "execute_result"
    }
   ],
   "source": [
    "import pandas as pd\n",
    "data = pd.read_csv('C:/Users/trxgfcg/OneDrive/바탕 화면/big/spam.csv', encoding='latin1')\n",
    "\n",
    "data"
   ]
  },
  {
   "cell_type": "code",
   "execution_count": 3,
   "id": "33956a12-443d-4a10-a7d3-ab2c07d0c309",
   "metadata": {},
   "outputs": [
    {
     "data": {
      "text/html": [
       "<div>\n",
       "<style scoped>\n",
       "    .dataframe tbody tr th:only-of-type {\n",
       "        vertical-align: middle;\n",
       "    }\n",
       "\n",
       "    .dataframe tbody tr th {\n",
       "        vertical-align: top;\n",
       "    }\n",
       "\n",
       "    .dataframe thead th {\n",
       "        text-align: right;\n",
       "    }\n",
       "</style>\n",
       "<table border=\"1\" class=\"dataframe\">\n",
       "  <thead>\n",
       "    <tr style=\"text-align: right;\">\n",
       "      <th></th>\n",
       "      <th>v1</th>\n",
       "      <th>v2</th>\n",
       "    </tr>\n",
       "  </thead>\n",
       "  <tbody>\n",
       "    <tr>\n",
       "      <th>0</th>\n",
       "      <td>0</td>\n",
       "      <td>Go until jurong point, crazy.. Available only ...</td>\n",
       "    </tr>\n",
       "    <tr>\n",
       "      <th>1</th>\n",
       "      <td>0</td>\n",
       "      <td>Ok lar... Joking wif u oni...</td>\n",
       "    </tr>\n",
       "    <tr>\n",
       "      <th>2</th>\n",
       "      <td>1</td>\n",
       "      <td>Free entry in 2 a wkly comp to win FA Cup fina...</td>\n",
       "    </tr>\n",
       "    <tr>\n",
       "      <th>3</th>\n",
       "      <td>0</td>\n",
       "      <td>U dun say so early hor... U c already then say...</td>\n",
       "    </tr>\n",
       "    <tr>\n",
       "      <th>4</th>\n",
       "      <td>0</td>\n",
       "      <td>Nah I don't think he goes to usf, he lives aro...</td>\n",
       "    </tr>\n",
       "  </tbody>\n",
       "</table>\n",
       "</div>"
      ],
      "text/plain": [
       "   v1                                                 v2\n",
       "0   0  Go until jurong point, crazy.. Available only ...\n",
       "1   0                      Ok lar... Joking wif u oni...\n",
       "2   1  Free entry in 2 a wkly comp to win FA Cup fina...\n",
       "3   0  U dun say so early hor... U c already then say...\n",
       "4   0  Nah I don't think he goes to usf, he lives aro..."
      ]
     },
     "execution_count": 3,
     "metadata": {},
     "output_type": "execute_result"
    }
   ],
   "source": [
    "del data['Unnamed: 2']\n",
    "del data['Unnamed: 3']\n",
    "del data['Unnamed: 4']\n",
    "data['v1'] = data['v1'].replace(['ham','spam'],[0,1])\n",
    "data[:5]"
   ]
  },
  {
   "cell_type": "code",
   "execution_count": null,
   "id": "8d5e3c46-b847-4d3d-b096-d47b0d4c481a",
   "metadata": {},
   "outputs": [],
   "source": []
  },
  {
   "cell_type": "code",
   "execution_count": 4,
   "id": "1fe333a9-94be-4f29-b9d2-0b0d2bfc820e",
   "metadata": {},
   "outputs": [
    {
     "name": "stdout",
     "output_type": "stream",
     "text": [
      "v2열의 유니크한 값 : 5169\n"
     ]
    }
   ],
   "source": [
    "print('v2열의 유니크한 값 :',data['v2'].nunique())"
   ]
  },
  {
   "cell_type": "code",
   "execution_count": 5,
   "id": "df0f3990-3d85-4859-8113-81e3bcf15f05",
   "metadata": {},
   "outputs": [
    {
     "name": "stdout",
     "output_type": "stream",
     "text": [
      "총 샘플의 수 : 5169\n"
     ]
    }
   ],
   "source": [
    "data.drop_duplicates(subset=['v2'], inplace=True)\n",
    "print('총 샘플의 수 :',len(data))"
   ]
  },
  {
   "cell_type": "code",
   "execution_count": 6,
   "id": "8dd25cb6-2352-41b3-ac32-838f21af21ba",
   "metadata": {},
   "outputs": [
    {
     "name": "stderr",
     "output_type": "stream",
     "text": [
      "[nltk_data] Downloading package punkt to\n",
      "[nltk_data]     C:\\Users\\trxgfcg\\AppData\\Roaming\\nltk_data...\n",
      "[nltk_data]   Package punkt is already up-to-date!\n",
      "[nltk_data] Downloading package stopwords to\n",
      "[nltk_data]     C:\\Users\\trxgfcg\\AppData\\Roaming\\nltk_data...\n",
      "[nltk_data]   Package stopwords is already up-to-date!\n"
     ]
    },
    {
     "name": "stdout",
     "output_type": "stream",
     "text": [
      "                                                     v2\n",
      "0     Go jurong point , crazy .. Available bugis n g...\n",
      "1                       Ok lar ... Joking wif u oni ...\n",
      "2     Free entry 2 wkly comp win FA Cup final tkts 2...\n",
      "3           U dun say early hor ... U c already say ...\n",
      "4          Nah n't think goes usf , lives around though\n",
      "...                                                 ...\n",
      "5567  2nd time tried 2 contact u. U å£750 Pound priz...\n",
      "5568                     Ì_ b going esplanade fr home ?\n",
      "5569                  Pity , * mood . ... suggestions ?\n",
      "5570  guy bitching acted like 'd interested buying s...\n",
      "5571                                   Rofl . true name\n",
      "\n",
      "[5169 rows x 1 columns]\n"
     ]
    }
   ],
   "source": [
    "import nltk\n",
    "from nltk.corpus import stopwords\n",
    "from nltk.tokenize import word_tokenize\n",
    "import pandas as pd\n",
    "\n",
    "# NLTK 데이터 다운로드\n",
    "nltk.download('punkt')\n",
    "nltk.download('stopwords')\n",
    "\n",
    "# 영어 불용어 목록\n",
    "stop_words = set(stopwords.words('english'))\n",
    "\n",
    "# 데이터 로드 (예시로 DataFrame을 사용합니다)\n",
    "# 여기서는 DataFrame의 'text' 열에 텍스트 데이터가 있다고 가정합니다.\n",
    "# 실제 데이터에 맞게 수정해야 합니다.\n",
    "# 예시: df = pd.read_csv('your_dataset.csv')\n",
    "# 데이터프레임의 'text' 열에 텍스트 데이터가 들어있다고 가정\n",
    "# df['text']에 해당하는 컬럼명을 사용하세요.\n",
    "\n",
    "# 예시 데이터\n",
    "\n",
    "\n",
    "# 데이터프레임 생성 (실제 데이터에 맞게 수정해야 함)\n",
    "df = pd.DataFrame(data, columns=['v2'])\n",
    "\n",
    "# 불용어 제거 함수 정의\n",
    "def remove_stopwords(text):\n",
    "    tokens = word_tokenize(text)\n",
    "    filtered_text = [word for word in tokens if word.lower() not in stop_words]\n",
    "    return \" \".join(filtered_text)\n",
    "\n",
    "# 각 텍스트에 대해 불용어 제거 적용\n",
    "df['v2'] = df['v2'].apply(remove_stopwords)\n",
    "\n",
    "# 결과 출력\n",
    "print(df)\n",
    "data['v2'] = df"
   ]
  },
  {
   "cell_type": "code",
   "execution_count": 7,
   "id": "e2e7131f-6f88-445b-9282-e27f944e9ccb",
   "metadata": {},
   "outputs": [],
   "source": [
    "\n",
    "#real = pd.read_csv('C:/Users/trxgfcg/OneDrive/바탕 화면/big/review_realtotal.csv')"
   ]
  },
  {
   "cell_type": "code",
   "execution_count": 8,
   "id": "bfc9605e-cfb5-4917-a36b-abee6903730b",
   "metadata": {},
   "outputs": [],
   "source": [
    "#print('v2열의 유니크한 값 :',real['element_text'].nunique())"
   ]
  },
  {
   "cell_type": "code",
   "execution_count": 9,
   "id": "c4217215-1e1f-41f3-821f-e6d154d76bca",
   "metadata": {},
   "outputs": [],
   "source": [
    "#real.drop_duplicates(subset=['element_text'], inplace=True)\n",
    "#print('총 샘플의 수 :',len(real))"
   ]
  },
  {
   "cell_type": "code",
   "execution_count": 10,
   "id": "11f09d54-bdd1-4316-9d61-6638724bb435",
   "metadata": {},
   "outputs": [
    {
     "data": {
      "image/png": "[encoded data removed]",
      "text/plain": [
       "<Figure size 640x480 with 1 Axes>"
      ]
     },
     "metadata": {},
     "output_type": "display_data"
    }
   ],
   "source": [
    "# 막대 그래프 그리기\n",
    "total_count = data['v1'].count()\n",
    "bars = plt.bar([0, 1], data['v1'].value_counts().values, color=['#4169E1', '#1E90FF'])\n",
    "\n",
    "# x축 눈금과 레이블 설정\n",
    "plt.xticks([0, 1], ['0', '1'])\n",
    "\n",
    "# 범례 추가\n",
    "plt.legend(bars, ['0: ham', '1: spam'])\n",
    "for bar in bars:\n",
    "    height = bar.get_height()\n",
    "    percentage = height / total_count * 100\n",
    "    plt.text(bar.get_x() + bar.get_width() / 2, height, '%.1f%%' % percentage, ha='center', va='bottom')\n",
    "\n",
    "plt.savefig('C:/Users/trxgfcg/OneDrive/바탕 화면/학위논문_배경득/Spam_ratio.png')\n",
    "# 그래프 표시\n",
    "plt.show()\n"
   ]
  },
  {
   "cell_type": "code",
   "execution_count": 11,
   "id": "05d9f4f9-56df-4ddf-bb9b-a32a31c308bf",
   "metadata": {},
   "outputs": [
    {
     "data": {
      "image/png": "[encoded data removed]",
      "text/plain": [
       "<Figure size 640x480 with 1 Axes>"
      ]
     },
     "metadata": {},
     "output_type": "display_data"
    }
   ],
   "source": [
    "import matplotlib.pyplot as plt\n",
    "\n",
    "# 데이터프레임에서 'v1' 칼럼의 값에 따른 갯수를 세기\n",
    "v1_counts = data['v1'].value_counts()\n",
    "\n",
    "# 전체 데이터 갯수\n",
    "total_count = v1_counts.sum()\n",
    "\n",
    "# 막대 그래프 그리기\n",
    "bars = plt.bar([0, 1], v1_counts.values, color=['#4169E1', '#1E90FF'])\n",
    "\n",
    "# x축 눈금과 레이블 설정\n",
    "plt.xticks([0, 1], ['0', '1'])\n",
    "\n",
    "# 범례 추가\n",
    "plt.legend(bars, ['0:Positive', '1:Negative'])\n",
    "\n",
    "# 각 막대 위에 데이터 갯수 표시\n",
    "for bar in bars:\n",
    "    height = bar.get_height()\n",
    "    plt.text(bar.get_x() + bar.get_width() / 2, height, '%d' % height, ha='center', va='bottom')\n",
    "\n",
    "# 그래프 표시\n",
    "plt.show()\n"
   ]
  },
  {
   "cell_type": "code",
   "execution_count": 12,
   "id": "68bda4f8-987f-4999-93f4-0d62ba806438",
   "metadata": {},
   "outputs": [
    {
     "name": "stdout",
     "output_type": "stream",
     "text": [
      "메일 본문의 개수: 5169\n",
      "레이블의 개수: 5169\n"
     ]
    }
   ],
   "source": [
    "X_data = data['v2']\n",
    "y_data = data['v1']\n",
    "print('메일 본문의 개수: {}'.format(len(X_data)))\n",
    "print('레이블의 개수: {}'.format(len(y_data)))\n"
   ]
  },
  {
   "cell_type": "code",
   "execution_count": 13,
   "id": "07bb74ad-348d-44ba-b690-4af923e0e8c3",
   "metadata": {},
   "outputs": [],
   "source": [
    "x_train, x_valid, y_train, y_valid= train_test_split(X_data, y_data, test_size=0.2, random_state=42)"
   ]
  },
  {
   "cell_type": "code",
   "execution_count": 14,
   "id": "7bd8cd08-479a-43bd-8030-febbc1f64799",
   "metadata": {},
   "outputs": [],
   "source": [
    "x_train.fillna('', inplace=True)"
   ]
  },
  {
   "cell_type": "code",
   "execution_count": 15,
   "id": "ae13a7e8-5168-40f1-88d9-2111287b702a",
   "metadata": {},
   "outputs": [
    {
     "name": "stdout",
     "output_type": "stream",
     "text": [
      "(4135, 7590)\n"
     ]
    }
   ],
   "source": [
    "dtmvector = CountVectorizer()\n",
    "X_train_dtm = dtmvector.fit_transform(x_train)\n",
    "print(X_train_dtm.shape)"
   ]
  },
  {
   "cell_type": "code",
   "execution_count": 16,
   "id": "3dae03d7-e6d5-401d-84e4-89c7e29565ff",
   "metadata": {},
   "outputs": [
    {
     "name": "stdout",
     "output_type": "stream",
     "text": [
      "(4135, 7590)\n"
     ]
    }
   ],
   "source": [
    "tfidf_transformer = TfidfTransformer()\n",
    "tfidfv = tfidf_transformer.fit_transform(X_train_dtm)\n",
    "print(tfidfv.shape)"
   ]
  },
  {
   "cell_type": "code",
   "execution_count": 17,
   "id": "33ac9424-b63b-499e-9236-a6d685a43d28",
   "metadata": {},
   "outputs": [],
   "source": [
    "mod = MultinomialNB()\n",
    "orginal = mod.fit(tfidfv, y_train)"
   ]
  },
  {
   "cell_type": "code",
   "execution_count": 18,
   "id": "cfde2583-0b50-40ef-a125-861a8c341dd9",
   "metadata": {},
   "outputs": [
    {
     "data": {
      "text/html": [
       "<style>#sk-container-id-1 {color: black;background-color: white;}#sk-container-id-1 pre{padding: 0;}#sk-container-id-1 div.sk-toggleable {background-color: white;}#sk-container-id-1 label.sk-toggleable__label {cursor: pointer;display: block;width: 100%;margin-bottom: 0;padding: 0.3em;box-sizing: border-box;text-align: center;}#sk-container-id-1 label.sk-toggleable__label-arrow:before {content: \"▸\";float: left;margin-right: 0.25em;color: #696969;}#sk-container-id-1 label.sk-toggleable__label-arrow:hover:before {color: black;}#sk-container-id-1 div.sk-estimator:hover label.sk-toggleable__label-arrow:before {color: black;}#sk-container-id-1 div.sk-toggleable__content {max-height: 0;max-width: 0;overflow: hidden;text-align: left;background-color: #f0f8ff;}#sk-container-id-1 div.sk-toggleable__content pre {margin: 0.2em;color: black;border-radius: 0.25em;background-color: #f0f8ff;}#sk-container-id-1 input.sk-toggleable__control:checked~div.sk-toggleable__content {max-height: 200px;max-width: 100%;overflow: auto;}#sk-container-id-1 input.sk-toggleable__control:checked~label.sk-toggleable__label-arrow:before {content: \"▾\";}#sk-container-id-1 div.sk-estimator input.sk-toggleable__control:checked~label.sk-toggleable__label {background-color: #d4ebff;}#sk-container-id-1 div.sk-label input.sk-toggleable__control:checked~label.sk-toggleable__label {background-color: #d4ebff;}#sk-container-id-1 input.sk-hidden--visually {border: 0;clip: rect(1px 1px 1px 1px);clip: rect(1px, 1px, 1px, 1px);height: 1px;margin: -1px;overflow: hidden;padding: 0;position: absolute;width: 1px;}#sk-container-id-1 div.sk-estimator {font-family: monospace;background-color: #f0f8ff;border: 1px dotted black;border-radius: 0.25em;box-sizing: border-box;margin-bottom: 0.5em;}#sk-container-id-1 div.sk-estimator:hover {background-color: #d4ebff;}#sk-container-id-1 div.sk-parallel-item::after {content: \"\";width: 100%;border-bottom: 1px solid gray;flex-grow: 1;}#sk-container-id-1 div.sk-label:hover label.sk-toggleable__label {background-color: #d4ebff;}#sk-container-id-1 div.sk-serial::before {content: \"\";position: absolute;border-left: 1px solid gray;box-sizing: border-box;top: 0;bottom: 0;left: 50%;z-index: 0;}#sk-container-id-1 div.sk-serial {display: flex;flex-direction: column;align-items: center;background-color: white;padding-right: 0.2em;padding-left: 0.2em;position: relative;}#sk-container-id-1 div.sk-item {position: relative;z-index: 1;}#sk-container-id-1 div.sk-parallel {display: flex;align-items: stretch;justify-content: center;background-color: white;position: relative;}#sk-container-id-1 div.sk-item::before, #sk-container-id-1 div.sk-parallel-item::before {content: \"\";position: absolute;border-left: 1px solid gray;box-sizing: border-box;top: 0;bottom: 0;left: 50%;z-index: -1;}#sk-container-id-1 div.sk-parallel-item {display: flex;flex-direction: column;z-index: 1;position: relative;background-color: white;}#sk-container-id-1 div.sk-parallel-item:first-child::after {align-self: flex-end;width: 50%;}#sk-container-id-1 div.sk-parallel-item:last-child::after {align-self: flex-start;width: 50%;}#sk-container-id-1 div.sk-parallel-item:only-child::after {width: 0;}#sk-container-id-1 div.sk-dashed-wrapped {border: 1px dashed gray;margin: 0 0.4em 0.5em 0.4em;box-sizing: border-box;padding-bottom: 0.4em;background-color: white;}#sk-container-id-1 div.sk-label label {font-family: monospace;font-weight: bold;display: inline-block;line-height: 1.2em;}#sk-container-id-1 div.sk-label-container {text-align: center;}#sk-container-id-1 div.sk-container {/* jupyter's `normalize.less` sets `[hidden] { display: none; }` but bootstrap.min.css set `[hidden] { display: none !important; }` so we also need the `!important` here to be able to override the default hidden behavior on the sphinx rendered scikit-learn.org. See: https://github.com/scikit-learn/scikit-learn/issues/21755 */display: inline-block !important;position: relative;}#sk-container-id-1 div.sk-text-repr-fallback {display: none;}</style><div id=\"sk-container-id-1\" class=\"sk-top-container\"><div class=\"sk-text-repr-fallback\"><pre>MultinomialNB()</pre><b>In a Jupyter environment, please rerun this cell to show the HTML representation or trust the notebook. <br />On GitHub, the HTML representation is unable to render, please try loading this page with nbviewer.org.</b></div><div class=\"sk-container\" hidden><div class=\"sk-item\"><div class=\"sk-estimator sk-toggleable\"><input class=\"sk-toggleable__control sk-hidden--visually\" id=\"sk-estimator-id-1\" type=\"checkbox\" checked><label for=\"sk-estimator-id-1\" class=\"sk-toggleable__label sk-toggleable__label-arrow\">MultinomialNB</label><div class=\"sk-toggleable__content\"><pre>MultinomialNB()</pre></div></div></div></div></div>"
      ],
      "text/plain": [
       "MultinomialNB()"
      ]
     },
     "execution_count": 18,
     "metadata": {},
     "output_type": "execute_result"
    }
   ],
   "source": [
    "MultinomialNB(alpha=1.0, class_prior=None, fit_prior=True)"
   ]
  },
  {
   "cell_type": "code",
   "execution_count": 19,
   "id": "85f3031b-23cc-4363-80b5-691694280ec2",
   "metadata": {},
   "outputs": [
    {
     "name": "stdout",
     "output_type": "stream",
     "text": [
      "정확도: 0.9661508704061895\n"
     ]
    }
   ],
   "source": [
    "import pandas as pd\n",
    "from sklearn.feature_extraction.text import CountVectorizer\n",
    "\n",
    "# 결측치를 빈 문자열로 대체\n",
    "x_valid.fillna('', inplace=True)\n",
    "\n",
    "# CountVectorizer로 변환\n",
    "X_test_dtm = dtmvector.transform(x_valid)\n",
    "tfidfv_test = tfidf_transformer.transform(X_test_dtm)\n",
    "\n",
    "predicted = mod.predict(tfidfv_test)  # 테스트 데이터에 대한 예측\n",
    "print(\"정확도:\", accuracy_score(y_valid, predicted)) #예측값과 실제값 비교"
   ]
  },
  {
   "cell_type": "code",
   "execution_count": 20,
   "id": "3597e94e-1723-4744-bc18-db0532a3edc3",
   "metadata": {},
   "outputs": [
    {
     "name": "stdout",
     "output_type": "stream",
     "text": [
      "F1-score: 0.8627450980392156\n"
     ]
    }
   ],
   "source": [
    "from sklearn.metrics import f1_score\n",
    "\n",
    "f1 = f1_score(y_valid, predicted)\n",
    "\n",
    "print(\"F1-score:\", f1)"
   ]
  },
  {
   "cell_type": "code",
   "execution_count": 21,
   "id": "784d8fc0-ccd9-4f87-a6b0-de3eb210c7d5",
   "metadata": {},
   "outputs": [
    {
     "name": "stdout",
     "output_type": "stream",
     "text": [
      "F1-score=0.8627450980392156\n"
     ]
    }
   ],
   "source": [
    "original_f1 = f1_score(y_valid, predicted)\n",
    "print(f\"F1-score={original_f1}\")"
   ]
  },
  {
   "cell_type": "code",
   "execution_count": null,
   "id": "98753316-83ad-474c-b0cb-2eadb972c6f4",
   "metadata": {},
   "outputs": [],
   "source": []
  },
  {
   "cell_type": "code",
   "execution_count": 22,
   "id": "c87fc090-ac8d-4013-977c-5538d681741b",
   "metadata": {},
   "outputs": [],
   "source": [
    "df_test = pd.concat([x_valid, y_valid], axis=1)"
   ]
  },
  {
   "cell_type": "code",
   "execution_count": 23,
   "id": "1647b253-eed7-4055-97a6-0b2f4914ba2d",
   "metadata": {},
   "outputs": [],
   "source": [
    "df_train = pd.concat([x_train, y_train], axis=1)"
   ]
  },
  {
   "cell_type": "code",
   "execution_count": 24,
   "id": "67574158-2bac-4b37-a629-fe055b584723",
   "metadata": {},
   "outputs": [],
   "source": [
    "def print_class_num(df, label_name):            # 이진 클래스의 비율을 알아보기 위한 함수\n",
    "  n_total = len(df)                             # 데이터의 총 개수\n",
    "  n_neg = len(df.query(label_name + ' == 1'))   # label로 사용하는 열의 1 개수\n",
    "  n_pos = len(df.query(label_name + ' == 0'))   # label로 사용하는 열의 0 개수\n",
    "\n",
    "  print(\"부정 댓글: {}개, {:.2f}%\".format(n_neg, n_neg*100/n_total))\n",
    "  print(\"긍정 댓글: {}개, {:.2f}%\\n\".format(n_pos, n_pos*100/n_total))\n",
    "\n",
    "  values = df[label_name].value_counts()        # label로 사용하는 열의 값을 카운트\n",
    "  values.plot(kind='bar')\n",
    "  print(values)"
   ]
  },
  {
   "cell_type": "code",
   "execution_count": 25,
   "id": "a1b3cf1a-459b-4b7b-947b-131974f89d90",
   "metadata": {},
   "outputs": [
    {
     "data": {
      "text/html": [
       "<div>\n",
       "<style scoped>\n",
       "    .dataframe tbody tr th:only-of-type {\n",
       "        vertical-align: middle;\n",
       "    }\n",
       "\n",
       "    .dataframe tbody tr th {\n",
       "        vertical-align: top;\n",
       "    }\n",
       "\n",
       "    .dataframe thead th {\n",
       "        text-align: right;\n",
       "    }\n",
       "</style>\n",
       "<table border=\"1\" class=\"dataframe\">\n",
       "  <thead>\n",
       "    <tr style=\"text-align: right;\">\n",
       "      <th></th>\n",
       "      <th>v2</th>\n",
       "      <th>v1</th>\n",
       "    </tr>\n",
       "  </thead>\n",
       "  <tbody>\n",
       "    <tr>\n",
       "      <th>1617</th>\n",
       "      <td>u download fring app ?</td>\n",
       "      <td>0</td>\n",
       "    </tr>\n",
       "    <tr>\n",
       "      <th>2064</th>\n",
       "      <td>Pass dis ur contacts n see wat u get ! Red ; '...</td>\n",
       "      <td>0</td>\n",
       "    </tr>\n",
       "    <tr>\n",
       "      <th>1272</th>\n",
       "      <td>Ok ...</td>\n",
       "      <td>0</td>\n",
       "    </tr>\n",
       "    <tr>\n",
       "      <th>3020</th>\n",
       "      <td>film ill call later .</td>\n",
       "      <td>0</td>\n",
       "    </tr>\n",
       "    <tr>\n",
       "      <th>3642</th>\n",
       "      <td>Sorry , left phone upstairs . OK , might hecti...</td>\n",
       "      <td>0</td>\n",
       "    </tr>\n",
       "    <tr>\n",
       "      <th>...</th>\n",
       "      <td>...</td>\n",
       "      <td>...</td>\n",
       "    </tr>\n",
       "    <tr>\n",
       "      <th>4146</th>\n",
       "      <td>Pls help tell sura 'm expecting battery hont ....</td>\n",
       "      <td>0</td>\n",
       "    </tr>\n",
       "    <tr>\n",
       "      <th>1208</th>\n",
       "      <td>Also maaaan missing</td>\n",
       "      <td>0</td>\n",
       "    </tr>\n",
       "    <tr>\n",
       "      <th>4795</th>\n",
       "      <td>URGENT 2nd attempt contact U . å£900 prize YES...</td>\n",
       "      <td>1</td>\n",
       "    </tr>\n",
       "    <tr>\n",
       "      <th>3575</th>\n",
       "      <td>sign maturity start saying big things .. actua...</td>\n",
       "      <td>0</td>\n",
       "    </tr>\n",
       "    <tr>\n",
       "      <th>2820</th>\n",
       "      <td>Oh god .. taken teeth ? paining</td>\n",
       "      <td>0</td>\n",
       "    </tr>\n",
       "  </tbody>\n",
       "</table>\n",
       "<p>1034 rows × 2 columns</p>\n",
       "</div>"
      ],
      "text/plain": [
       "                                                     v2  v1\n",
       "1617                             u download fring app ?   0\n",
       "2064  Pass dis ur contacts n see wat u get ! Red ; '...   0\n",
       "1272                                             Ok ...   0\n",
       "3020                              film ill call later .   0\n",
       "3642  Sorry , left phone upstairs . OK , might hecti...   0\n",
       "...                                                 ...  ..\n",
       "4146  Pls help tell sura 'm expecting battery hont ....   0\n",
       "1208                                Also maaaan missing   0\n",
       "4795  URGENT 2nd attempt contact U . å£900 prize YES...   1\n",
       "3575  sign maturity start saying big things .. actua...   0\n",
       "2820                    Oh god .. taken teeth ? paining   0\n",
       "\n",
       "[1034 rows x 2 columns]"
      ]
     },
     "execution_count": 25,
     "metadata": {},
     "output_type": "execute_result"
    }
   ],
   "source": [
    "df_test"
   ]
  },
  {
   "cell_type": "code",
   "execution_count": 26,
   "id": "7f4d90c4-915f-467e-a604-3c0cfea7127b",
   "metadata": {},
   "outputs": [
    {
     "name": "stdout",
     "output_type": "stream",
     "text": [
      "부정 댓글: 145개, 14.02%\n",
      "긍정 댓글: 889개, 85.98%\n",
      "\n",
      "v1\n",
      "0    889\n",
      "1    145\n",
      "Name: count, dtype: int64\n"
     ]
    },
    {
     "data": {
      "image/png": "[encoded data removed]",
      "text/plain": [
       "<Figure size 640x480 with 1 Axes>"
      ]
     },
     "metadata": {},
     "output_type": "display_data"
    }
   ],
   "source": [
    "print_class_num(df_test, 'v1')"
   ]
  },
  {
   "cell_type": "code",
   "execution_count": 27,
   "id": "a67660c5-d13f-47c9-b024-0a12ac3c62ed",
   "metadata": {},
   "outputs": [
    {
     "name": "stdout",
     "output_type": "stream",
     "text": [
      "sampling_strategy=0.3: F1-score=0.9357142857142857\n",
      "sampling_strategy=0.4: F1-score=0.9361702127659575\n",
      "sampling_strategy=0.5: F1-score=0.9278350515463917\n",
      "sampling_strategy=0.6: F1-score=0.918918918918919\n",
      "sampling_strategy=0.7: F1-score=0.906040268456376\n",
      "sampling_strategy=0.8: F1-score=0.8954248366013072\n",
      "sampling_strategy=0.9: F1-score=0.8896103896103897\n",
      "sampling_strategy=1.0: F1-score=0.8896103896103897\n"
     ]
    }
   ],
   "source": [
    "from imblearn.over_sampling import ADASYN\n",
    "from sklearn.naive_bayes import MultinomialNB\n",
    "from sklearn.metrics import accuracy_score\n",
    "\n",
    "Amodels = []\n",
    "f1_scores_A = [] \n",
    "# 테스트 데이터를 TF-IDF로 변환\n",
    "X_test_dtm = dtmvector.transform(x_valid)\n",
    "tfidfv_test = tfidf_transformer.transform(X_test_dtm)\n",
    "\n",
    "# ADASYN을 사용하여 오버샘플링하고 정확도 측정\n",
    "for i in range(3, 11):\n",
    "    # ADASYN을 사용하여 오버샘플링\n",
    "    adasyn = ADASYN(sampling_strategy=i/10)\n",
    "    X_train_adasyn, y_train_adasyn = adasyn.fit_resample(tfidfv, y_train)\n",
    "\n",
    "    # 모델 학습\n",
    "    mod = MultinomialNB()\n",
    "    mod.fit(X_train_adasyn, y_train_adasyn)\n",
    "    \n",
    "    #모델추가\n",
    "    Amodels.append(mod)\n",
    "\n",
    "    # 예측\n",
    "    predicted = mod.predict(tfidfv_test)\n",
    "\n",
    "    # F1-score 출력\n",
    "    f1 = f1_score(y_valid, predicted)\n",
    "    f1_scores_A.append(f1)\n",
    "    print(f\"sampling_strategy={i/10}: F1-score={f1}\")\n"
   ]
  },
  {
   "cell_type": "code",
   "execution_count": 28,
   "id": "f674af1b-a44d-4286-982d-f2b6bfbd17f1",
   "metadata": {},
   "outputs": [
    {
     "name": "stdout",
     "output_type": "stream",
     "text": [
      "sampling_strategy=0.3: F1-score=0.9236363636363637\n",
      "sampling_strategy=0.4: F1-score=0.9257950530035336\n",
      "sampling_strategy=0.5: F1-score=0.9183673469387755\n",
      "sampling_strategy=0.6: F1-score=0.9121621621621622\n",
      "sampling_strategy=0.7: F1-score=0.9121621621621622\n",
      "sampling_strategy=0.8: F1-score=0.9072847682119206\n",
      "sampling_strategy=0.9: F1-score=0.9013157894736843\n",
      "sampling_strategy=1.0: F1-score=0.8867313915857605\n"
     ]
    }
   ],
   "source": [
    "from imblearn.over_sampling import ADASYN\n",
    "from sklearn.naive_bayes import MultinomialNB\n",
    "from sklearn.metrics import accuracy_score\n",
    "from sklearn.metrics import f1_score\n",
    "\n",
    "f1_scores_S = [] \n",
    "# 테스트 데이터를 TF-IDF로 변환\n",
    "X_test_dtm = dtmvector.transform(x_valid)\n",
    "tfidfv_test = tfidf_transformer.transform(X_test_dtm)\n",
    "\n",
    "Smodels = []\n",
    "\n",
    "# ADASYN을 사용하여 오버샘플링하고 정확도 측정\n",
    "for i in range(3, 11):\n",
    "    # ADASYN을 사용하여 오버샘플링\n",
    "    smote = SMOTE(sampling_strategy=i/10)\n",
    "    X_train_smote, y_train_smote = smote.fit_resample(tfidfv, y_train)\n",
    "\n",
    "    # 모델 학습\n",
    "    mod = MultinomialNB()\n",
    "    mod.fit(X_train_smote, y_train_smote)\n",
    "    # 생성된 모델을 리스트에 추가\n",
    "    Smodels.append(mod)\n",
    "\n",
    "    # 예측\n",
    "    predicted = mod.predict(tfidfv_test)\n",
    "\n",
    "\n",
    "   # F1-score 출력\n",
    "    f1 = f1_score(y_valid, predicted)\n",
    "    f1_scores_S.append(f1)\n",
    "    print(f\"sampling_strategy={i/10}: F1-score={f1}\")\n"
   ]
  },
  {
   "cell_type": "code",
   "execution_count": 29,
   "id": "ad12ea1c-6b62-48ac-abe7-333ef33abde0",
   "metadata": {},
   "outputs": [
    {
     "data": {
      "image/png": "[encoded data removed]",
      "text/plain": [
       "<Figure size 640x480 with 1 Axes>"
      ]
     },
     "metadata": {},
     "output_type": "display_data"
    }
   ],
   "source": [
    "import matplotlib.pyplot as plt\n",
    "\n",
    "sampling_strategies = [i/10 for i in range(3, 11)]\n",
    "\n",
    "plt.plot(sampling_strategies, f1_scores_S, marker='o')\n",
    "plt.title('F1 Score vs Sampling Strategy')\n",
    "plt.xlabel('Sampling Strategy')\n",
    "plt.ylabel('F1 Score')\n",
    "plt.grid(True)\n",
    "\n",
    "plt.ylim(0.9, 0.96)\n",
    "plt.axhline(y=original_f1, color='r', linestyle='--')\n",
    "\n",
    "plt.show()\n"
   ]
  },
  {
   "cell_type": "code",
   "execution_count": 30,
   "id": "36c98f26-865b-4519-8bde-38f50b3de86d",
   "metadata": {},
   "outputs": [
    {
     "name": "stdout",
     "output_type": "stream",
     "text": [
      "sampling_strategy=0.3: F1-score=0.9280575539568345\n",
      "sampling_strategy=0.4: F1-score=0.9361702127659575\n",
      "sampling_strategy=0.5: F1-score=0.9209621993127147\n",
      "sampling_strategy=0.6: F1-score=0.9215017064846416\n",
      "sampling_strategy=0.7: F1-score=0.9152542372881356\n",
      "sampling_strategy=0.8: F1-score=0.9036544850498339\n",
      "sampling_strategy=0.9: F1-score=0.9042904290429041\n",
      "sampling_strategy=1.0: F1-score=0.8925081433224755\n"
     ]
    }
   ],
   "source": [
    "from imblearn.over_sampling import ADASYN\n",
    "from sklearn.naive_bayes import MultinomialNB\n",
    "from sklearn.metrics import accuracy_score\n",
    "f1_scores_B = [] \n",
    "Bmodels = [] \n",
    "\n",
    "# 테스트 데이터를 TF-IDF로 변환\n",
    "X_test_dtm = dtmvector.transform(x_valid)\n",
    "tfidfv_test = tfidf_transformer.transform(X_test_dtm)\n",
    "\n",
    "# ADASYN을 사용하여 오버샘플링하고 정확도 측정\n",
    "for i in range(3, 11):\n",
    "    # ADASYN을 사용하여 오버샘플링\n",
    "    Bsmote = BorderlineSMOTE(sampling_strategy=i/10)\n",
    "    X_train_B, y_train_B = Bsmote.fit_resample(tfidfv, y_train)\n",
    "\n",
    "    # 모델 학습\n",
    "    mod = MultinomialNB()\n",
    "    mod.fit(X_train_B, y_train_B)\n",
    "    # 생성된 모델을 리스트에 추가\n",
    "    Bmodels.append(mod)\n",
    "\n",
    "    # 예측\n",
    "    predicted = mod.predict(tfidfv_test)\n",
    "\n",
    "    # F1-score 출력\n",
    "    f1 = f1_score(y_valid, predicted)\n",
    "    f1_scores_B.append(f1)\n",
    "    print(f\"sampling_strategy={i/10}: F1-score={f1}\")\n"
   ]
  },
  {
   "cell_type": "code",
   "execution_count": 31,
   "id": "b339d3fb-b68f-4ccf-b42d-59ecad73cd19",
   "metadata": {},
   "outputs": [
    {
     "data": {
      "image/png": "[encoded data removed]",
      "text/plain": [
       "<Figure size 640x480 with 1 Axes>"
      ]
     },
     "metadata": {},
     "output_type": "display_data"
    }
   ],
   "source": [
    "import matplotlib.pyplot as plt\n",
    "\n",
    "sampling_strategies = [i/10 for i in range(3, 11)]\n",
    "\n",
    "plt.plot(sampling_strategies, f1_scores_B, marker='o')\n",
    "plt.title('F1 Score vs Sampling Strategy')\n",
    "plt.xlabel('Sampling Strategy')\n",
    "plt.ylabel('F1 Score')\n",
    "plt.grid(True)\n",
    "\n",
    "plt.ylim(0.9, 0.96)\n",
    "plt.axhline(y=original_f1, color='r', linestyle='--')\n",
    "\n",
    "plt.show()\n"
   ]
  },
  {
   "cell_type": "code",
   "execution_count": 32,
   "id": "b16dde6e-71c8-42af-b84b-157d882e61fe",
   "metadata": {},
   "outputs": [
    {
     "data": {
      "image/png": "[encoded data removed]",
      "text/plain": [
       "<Figure size 640x480 with 1 Axes>"
      ]
     },
     "metadata": {},
     "output_type": "display_data"
    }
   ],
   "source": [
    "import matplotlib.pyplot as plt\n",
    "\n",
    "sampling_strategies = [i/10 for i in range(3, 11)]\n",
    "plt.plot(sampling_strategies, f1_scores_A, marker='o', linestyle='-', label='ADASYN')\n",
    "plt.plot(sampling_strategies, f1_scores_B, marker='x', linestyle='--', label='Borderline_SMOTE')\n",
    "plt.plot(sampling_strategies, f1_scores_S, marker='s', linestyle='-.', label='SMOTE')\n",
    "\n",
    "plt.title('Spam')\n",
    "plt.xlabel('Sampling Strategy')\n",
    "plt.ylabel('F1 Score')\n",
    "plt.grid(True)\n",
    "\n",
    "plt.legend()  # 범례 추가\n",
    "\n",
    "plt.savefig('C:/Users/trxgfcg/OneDrive/바탕 화면/학위논문_배경득/Spamdata_result_no2.png')\n",
    "plt.show()\n"
   ]
  },
  {
   "cell_type": "code",
   "execution_count": 33,
   "id": "bcb53ad0-9176-4f4e-a115-c8d5d901297f",
   "metadata": {},
   "outputs": [
    {
     "data": {
      "text/plain": [
       "0.8627450980392156"
      ]
     },
     "execution_count": 33,
     "metadata": {},
     "output_type": "execute_result"
    }
   ],
   "source": [
    "original_f1"
   ]
  }
 ],
 "metadata": {
  "kernelspec": {
   "display_name": "Python 3 (ipykernel)",
   "language": "python",
   "name": "python3"
  },
  "language_info": {
   "codemirror_mode": {
    "name": "ipython",
    "version": 3
   },
   "file_extension": ".py",
   "mimetype": "text/x-python",
   "name": "python",
   "nbconvert_exporter": "python",
   "pygments_lexer": "ipython3",
   "version": "3.11.7"
  }
 },
 "nbformat": 4,
 "nbformat_minor": 5
}
