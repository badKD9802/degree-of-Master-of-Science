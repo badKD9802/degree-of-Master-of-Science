{
 "cells": [
  {
   "cell_type": "code",
   "execution_count": 1,
   "id": "63a50918-b43c-4a9e-8531-d16f196ff531",
   "metadata": {},
   "outputs": [],
   "source": [
    "from sklearn.feature_extraction.text import CountVectorizer\n",
    "from sklearn.feature_extraction.text import TfidfTransformer\n",
    "from sklearn.naive_bayes import MultinomialNB # 다항분포 나이브 베이즈 모델\n",
    "from sklearn.metrics import accuracy_score #정확도 계산\n",
    "import tensorflow as tf\n",
    "import os\n",
    "import pandas as pd\n",
    "import numpy as np\n",
    "import matplotlib.pyplot as plt\n",
    "from sklearn.model_selection import train_test_split\n",
    "import re\n",
    "from tensorflow import keras\n",
    "from tqdm import tqdm\n",
    "from imblearn.over_sampling import SMOTE\n",
    "from imblearn.over_sampling import BorderlineSMOTE\n",
    "from imblearn.over_sampling import ADASYN"
   ]
  },
  {
   "cell_type": "code",
   "execution_count": 2,
   "id": "32d578a0-fdcf-4638-a59f-3e8446f2593a",
   "metadata": {},
   "outputs": [
    {
     "data": {
      "text/html": [
       "<div>\n",
       "<style scoped>\n",
       "    .dataframe tbody tr th:only-of-type {\n",
       "        vertical-align: middle;\n",
       "    }\n",
       "\n",
       "    .dataframe tbody tr th {\n",
       "        vertical-align: top;\n",
       "    }\n",
       "\n",
       "    .dataframe thead th {\n",
       "        text-align: right;\n",
       "    }\n",
       "</style>\n",
       "<table border=\"1\" class=\"dataframe\">\n",
       "  <thead>\n",
       "    <tr style=\"text-align: right;\">\n",
       "      <th></th>\n",
       "      <th>review</th>\n",
       "      <th>sentiment</th>\n",
       "    </tr>\n",
       "  </thead>\n",
       "  <tbody>\n",
       "    <tr>\n",
       "      <th>0</th>\n",
       "      <td>One of the other reviewers has mentioned that ...</td>\n",
       "      <td>positive</td>\n",
       "    </tr>\n",
       "    <tr>\n",
       "      <th>1</th>\n",
       "      <td>A wonderful little production. &lt;br /&gt;&lt;br /&gt;The...</td>\n",
       "      <td>positive</td>\n",
       "    </tr>\n",
       "    <tr>\n",
       "      <th>2</th>\n",
       "      <td>I thought this was a wonderful way to spend ti...</td>\n",
       "      <td>positive</td>\n",
       "    </tr>\n",
       "    <tr>\n",
       "      <th>3</th>\n",
       "      <td>Basically there's a family where a little boy ...</td>\n",
       "      <td>negative</td>\n",
       "    </tr>\n",
       "    <tr>\n",
       "      <th>4</th>\n",
       "      <td>Petter Mattei's \"Love in the Time of Money\" is...</td>\n",
       "      <td>positive</td>\n",
       "    </tr>\n",
       "    <tr>\n",
       "      <th>...</th>\n",
       "      <td>...</td>\n",
       "      <td>...</td>\n",
       "    </tr>\n",
       "    <tr>\n",
       "      <th>49995</th>\n",
       "      <td>I thought this movie did a down right good job...</td>\n",
       "      <td>positive</td>\n",
       "    </tr>\n",
       "    <tr>\n",
       "      <th>49996</th>\n",
       "      <td>Bad plot, bad dialogue, bad acting, idiotic di...</td>\n",
       "      <td>negative</td>\n",
       "    </tr>\n",
       "    <tr>\n",
       "      <th>49997</th>\n",
       "      <td>I am a Catholic taught in parochial elementary...</td>\n",
       "      <td>negative</td>\n",
       "    </tr>\n",
       "    <tr>\n",
       "      <th>49998</th>\n",
       "      <td>I'm going to have to disagree with the previou...</td>\n",
       "      <td>negative</td>\n",
       "    </tr>\n",
       "    <tr>\n",
       "      <th>49999</th>\n",
       "      <td>No one expects the Star Trek movies to be high...</td>\n",
       "      <td>negative</td>\n",
       "    </tr>\n",
       "  </tbody>\n",
       "</table>\n",
       "<p>50000 rows × 2 columns</p>\n",
       "</div>"
      ],
      "text/plain": [
       "                                                  review sentiment\n",
       "0      One of the other reviewers has mentioned that ...  positive\n",
       "1      A wonderful little production. <br /><br />The...  positive\n",
       "2      I thought this was a wonderful way to spend ti...  positive\n",
       "3      Basically there's a family where a little boy ...  negative\n",
       "4      Petter Mattei's \"Love in the Time of Money\" is...  positive\n",
       "...                                                  ...       ...\n",
       "49995  I thought this movie did a down right good job...  positive\n",
       "49996  Bad plot, bad dialogue, bad acting, idiotic di...  negative\n",
       "49997  I am a Catholic taught in parochial elementary...  negative\n",
       "49998  I'm going to have to disagree with the previou...  negative\n",
       "49999  No one expects the Star Trek movies to be high...  negative\n",
       "\n",
       "[50000 rows x 2 columns]"
      ]
     },
     "execution_count": 2,
     "metadata": {},
     "output_type": "execute_result"
    }
   ],
   "source": [
    "import pandas as pd\n",
    "data = pd.read_csv('C:/Users/trxgfcg/OneDrive/바탕 화면/big/Flipkart.csv', encoding='latin1')\n",
    "\n",
    "data"
   ]
  },
  {
   "cell_type": "code",
   "execution_count": 3,
   "id": "48186d29-3ba9-4d66-b25b-0d95cfed4f60",
   "metadata": {},
   "outputs": [
    {
     "data": {
      "text/html": [
       "<div>\n",
       "<style scoped>\n",
       "    .dataframe tbody tr th:only-of-type {\n",
       "        vertical-align: middle;\n",
       "    }\n",
       "\n",
       "    .dataframe tbody tr th {\n",
       "        vertical-align: top;\n",
       "    }\n",
       "\n",
       "    .dataframe thead th {\n",
       "        text-align: right;\n",
       "    }\n",
       "</style>\n",
       "<table border=\"1\" class=\"dataframe\">\n",
       "  <thead>\n",
       "    <tr style=\"text-align: right;\">\n",
       "      <th></th>\n",
       "      <th>review</th>\n",
       "      <th>sentiment</th>\n",
       "    </tr>\n",
       "  </thead>\n",
       "  <tbody>\n",
       "    <tr>\n",
       "      <th>0</th>\n",
       "      <td>One of the other reviewers has mentioned that ...</td>\n",
       "      <td>0</td>\n",
       "    </tr>\n",
       "    <tr>\n",
       "      <th>1</th>\n",
       "      <td>A wonderful little production. &lt;br /&gt;&lt;br /&gt;The...</td>\n",
       "      <td>0</td>\n",
       "    </tr>\n",
       "    <tr>\n",
       "      <th>2</th>\n",
       "      <td>I thought this was a wonderful way to spend ti...</td>\n",
       "      <td>0</td>\n",
       "    </tr>\n",
       "    <tr>\n",
       "      <th>3</th>\n",
       "      <td>Basically there's a family where a little boy ...</td>\n",
       "      <td>1</td>\n",
       "    </tr>\n",
       "    <tr>\n",
       "      <th>4</th>\n",
       "      <td>Petter Mattei's \"Love in the Time of Money\" is...</td>\n",
       "      <td>0</td>\n",
       "    </tr>\n",
       "  </tbody>\n",
       "</table>\n",
       "</div>"
      ],
      "text/plain": [
       "                                              review  sentiment\n",
       "0  One of the other reviewers has mentioned that ...          0\n",
       "1  A wonderful little production. <br /><br />The...          0\n",
       "2  I thought this was a wonderful way to spend ti...          0\n",
       "3  Basically there's a family where a little boy ...          1\n",
       "4  Petter Mattei's \"Love in the Time of Money\" is...          0"
      ]
     },
     "execution_count": 3,
     "metadata": {},
     "output_type": "execute_result"
    }
   ],
   "source": [
    "#del data['Unnamed: 0']\n",
    "data['sentiment'] = data['sentiment'].replace(['positive','negative'],[0,1])\n",
    "data[:5]"
   ]
  },
  {
   "cell_type": "code",
   "execution_count": 4,
   "id": "88047c93",
   "metadata": {},
   "outputs": [
    {
     "data": {
      "text/plain": [
       "<Axes: xlabel='sentiment'>"
      ]
     },
     "execution_count": 4,
     "metadata": {},
     "output_type": "execute_result"
    },
    {
     "data": {
      "image/png": "[encoded data removed]",
      "text/plain": [
       "<Figure size 640x480 with 1 Axes>"
      ]
     },
     "metadata": {},
     "output_type": "display_data"
    }
   ],
   "source": [
    "data['sentiment'].value_counts().plot(kind='bar')"
   ]
  },
  {
   "cell_type": "code",
   "execution_count": 5,
   "id": "6fe2cf93-88ec-4c27-ae4e-35877207d68c",
   "metadata": {},
   "outputs": [
    {
     "name": "stdout",
     "output_type": "stream",
     "text": [
      "                                                  review  sentiment\n",
      "0      One of the other reviewers has mentioned that ...          0\n",
      "1      A wonderful little production. <br /><br />The...          0\n",
      "2      I thought this was a wonderful way to spend ti...          0\n",
      "4      Petter Mattei's \"Love in the Time of Money\" is...          0\n",
      "5      Probably my all-time favorite movie, a story o...          0\n",
      "...                                                  ...        ...\n",
      "49993  Robert Colomb has two full-time jobs. He's kno...          1\n",
      "49994  This is your typical junk comedy.<br /><br />T...          1\n",
      "49995  I thought this movie did a down right good job...          0\n",
      "49996  Bad plot, bad dialogue, bad acting, idiotic di...          1\n",
      "49998  I'm going to have to disagree with the previou...          1\n",
      "\n",
      "[38750 rows x 2 columns]\n"
     ]
    }
   ],
   "source": [
    "import pandas as pd\n",
    "\n",
    "# label 열의 값이 1인 행의 인덱스를 찾습니다.\n",
    "indices_to_drop = data[data['sentiment'] == 1].sample(frac=0.45, random_state=42).index\n",
    "\n",
    "len(indices_to_drop)\n",
    "# 인덱스를 기반으로 데이터프레임에서 해당 행을 삭제합니다.\n",
    "data = data.drop(indices_to_drop)\n",
    "\n",
    "print(data)\n"
   ]
  },
  {
   "cell_type": "code",
   "execution_count": 6,
   "id": "b6b47071-8858-4a04-97fe-c4f5f3fef482",
   "metadata": {},
   "outputs": [],
   "source": [
    "from nltk.corpus import stopwords\n",
    "from nltk.tokenize import word_tokenize \n",
    "#from konlpy.tag import Okt"
   ]
  },
  {
   "cell_type": "code",
   "execution_count": 7,
   "id": "7a38fa62-9963-49b3-8e3a-388221890bfb",
   "metadata": {},
   "outputs": [
    {
     "name": "stdout",
     "output_type": "stream",
     "text": [
      "불용어 개수 : 179\n",
      "불용어 10개 출력 : ['i', 'me', 'my', 'myself', 'we', 'our', 'ours', 'ourselves', 'you', \"you're\"]\n"
     ]
    }
   ],
   "source": [
    "stop_words_list = stopwords.words('english')\n",
    "print('불용어 개수 :', len(stop_words_list))\n",
    "print('불용어 10개 출력 :',stop_words_list[:10])"
   ]
  },
  {
   "cell_type": "code",
   "execution_count": 8,
   "id": "b91cc703-b921-4a5e-8741-b442b693c316",
   "metadata": {},
   "outputs": [
    {
     "data": {
      "text/plain": [
       "0        One of the other reviewers has mentioned that ...\n",
       "1        A wonderful little production. <br /><br />The...\n",
       "2        I thought this was a wonderful way to spend ti...\n",
       "4        Petter Mattei's \"Love in the Time of Money\" is...\n",
       "5        Probably my all-time favorite movie, a story o...\n",
       "                               ...                        \n",
       "49993    Robert Colomb has two full-time jobs. He's kno...\n",
       "49994    This is your typical junk comedy.<br /><br />T...\n",
       "49995    I thought this movie did a down right good job...\n",
       "49996    Bad plot, bad dialogue, bad acting, idiotic di...\n",
       "49998    I'm going to have to disagree with the previou...\n",
       "Name: review, Length: 38750, dtype: object"
      ]
     },
     "execution_count": 8,
     "metadata": {},
     "output_type": "execute_result"
    }
   ],
   "source": [
    "data['review']"
   ]
  },
  {
   "cell_type": "code",
   "execution_count": 9,
   "id": "698134cf-19f3-4fb0-b131-2d7714e8c1c0",
   "metadata": {},
   "outputs": [
    {
     "name": "stderr",
     "output_type": "stream",
     "text": [
      "[nltk_data] Downloading package punkt to\n",
      "[nltk_data]     C:\\Users\\trxgfcg\\AppData\\Roaming\\nltk_data...\n",
      "[nltk_data]   Package punkt is already up-to-date!\n",
      "[nltk_data] Downloading package stopwords to\n",
      "[nltk_data]     C:\\Users\\trxgfcg\\AppData\\Roaming\\nltk_data...\n",
      "[nltk_data]   Package stopwords is already up-to-date!\n"
     ]
    },
    {
     "name": "stdout",
     "output_type": "stream",
     "text": [
      "                                                  review\n",
      "0      One reviewers mentioned watching 1 Oz episode ...\n",
      "1      wonderful little production . < br / > < br / ...\n",
      "2      thought wonderful way spend time hot summer we...\n",
      "4      Petter Mattei 's `` Love Time Money '' visuall...\n",
      "5      Probably all-time favorite movie , story selfl...\n",
      "...                                                  ...\n",
      "49993  Robert Colomb two full-time jobs . 's known th...\n",
      "49994  typical junk comedy. < br / > < br / > almost ...\n",
      "49995  thought movie right good job . n't creative or...\n",
      "49996  Bad plot , bad dialogue , bad acting , idiotic...\n",
      "49998  'm going disagree previous comment side Maltin...\n",
      "\n",
      "[38750 rows x 1 columns]\n"
     ]
    }
   ],
   "source": [
    "import nltk\n",
    "from nltk.corpus import stopwords\n",
    "from nltk.tokenize import word_tokenize\n",
    "import pandas as pd\n",
    "\n",
    "# NLTK 데이터 다운로드\n",
    "nltk.download('punkt')\n",
    "nltk.download('stopwords')\n",
    "\n",
    "# 영어 불용어 목록\n",
    "stop_words = set(stopwords.words('english'))\n",
    "\n",
    "# 데이터 로드 (예시로 DataFrame을 사용합니다)\n",
    "# 여기서는 DataFrame의 'text' 열에 텍스트 데이터가 있다고 가정합니다.\n",
    "# 실제 데이터에 맞게 수정해야 합니다.\n",
    "# 예시: df = pd.read_csv('your_dataset.csv')\n",
    "# 데이터프레임의 'text' 열에 텍스트 데이터가 들어있다고 가정\n",
    "# df['text']에 해당하는 컬럼명을 사용하세요.\n",
    "\n",
    "# 예시 데이터\n",
    "\n",
    "\n",
    "# 데이터프레임 생성 (실제 데이터에 맞게 수정해야 함)\n",
    "df = pd.DataFrame(data, columns=['review'])\n",
    "\n",
    "# 불용어 제거 함수 정의\n",
    "def remove_stopwords(text):\n",
    "    tokens = word_tokenize(text)\n",
    "    filtered_text = [word for word in tokens if word.lower() not in stop_words]\n",
    "    return \" \".join(filtered_text)\n",
    "\n",
    "# 각 텍스트에 대해 불용어 제거 적용\n",
    "df['review'] = df['review'].apply(remove_stopwords)\n",
    "\n",
    "# 결과 출력\n",
    "print(df)\n",
    "data['review'] = df"
   ]
  },
  {
   "cell_type": "code",
   "execution_count": 10,
   "id": "87a27ce4-b524-4bd0-adb7-e824614c4d04",
   "metadata": {},
   "outputs": [],
   "source": [
    "data['review'] = df"
   ]
  },
  {
   "cell_type": "code",
   "execution_count": 11,
   "id": "ab637755",
   "metadata": {},
   "outputs": [
    {
     "name": "stdout",
     "output_type": "stream",
     "text": [
      "sentiment\n",
      "0    0.645161\n",
      "1    0.354839\n",
      "Name: count, dtype: float64\n"
     ]
    }
   ],
   "source": [
    "sentiment_counts = data['sentiment'].value_counts()\n",
    "\n",
    "# 각 sentiment 값의 개수를 전체 데이터의 개수로 나누어 비율 계산\n",
    "total_samples = len(data)\n",
    "sentiment_ratios = sentiment_counts / total_samples\n",
    "\n",
    "print(sentiment_ratios)"
   ]
  },
  {
   "cell_type": "code",
   "execution_count": 12,
   "id": "11f09d54-bdd1-4316-9d61-6638724bb435",
   "metadata": {},
   "outputs": [
    {
     "data": {
      "image/png": "[encoded data removed]",
      "text/plain": [
       "<Figure size 640x480 with 1 Axes>"
      ]
     },
     "metadata": {},
     "output_type": "display_data"
    }
   ],
   "source": [
    "# 막대 그래프 그리기\n",
    "total_count = data['sentiment'].count()\n",
    "import matplotlib.pyplot as plt\n",
    "\n",
    "bars = plt.bar([0, 1], data['sentiment'].value_counts().values, color=['#4169E1', '#1E90FF'])\n",
    "\n",
    "# x축 눈금과 레이블 설정\n",
    "plt.xticks([0, 1], ['0', '1'])\n",
    "\n",
    "# 범례 추가\n",
    "plt.legend(bars, ['0:Positive', '1:negative'])\n",
    "for bar in bars:\n",
    "    height = bar.get_height()\n",
    "    percentage = height / total_count * 100\n",
    "    plt.text(bar.get_x() + bar.get_width() / 2, height, '%.1f%%' % percentage, ha='center', va='bottom')\n",
    "\n",
    "plt.savefig('C:/Users/trxgfcg/OneDrive/바탕 화면/학위논문_배경득/Flipkart_ratio.png')\n",
    "# 그래프 표시\n",
    "plt.show()\n"
   ]
  },
  {
   "cell_type": "code",
   "execution_count": 13,
   "id": "111e9e3c-e497-4faa-9f59-8fe035bbda18",
   "metadata": {},
   "outputs": [
    {
     "data": {
      "image/png": "[encoded data removed]",
      "text/plain": [
       "<Figure size 640x480 with 1 Axes>"
      ]
     },
     "metadata": {},
     "output_type": "display_data"
    }
   ],
   "source": [
    "import matplotlib.pyplot as plt\n",
    "\n",
    "# 데이터프레임에서 'sentiment' 칼럼의 값에 따른 갯수를 세기\n",
    "sentiment_counts = data['sentiment'].value_counts()\n",
    "\n",
    "# 전체 데이터 갯수\n",
    "total_count = sentiment_counts.sum()\n",
    "\n",
    "# 막대 그래프 그리기\n",
    "bars = plt.bar([0, 1], sentiment_counts.values, color=['#4169E1', '#1E90FF'])\n",
    "\n",
    "# x축 눈금과 레이블 설정\n",
    "plt.xticks([0, 1], ['0', '1'])\n",
    "\n",
    "# 범례 추가\n",
    "plt.legend(bars, ['0:Positive', '1:Negative'])\n",
    "\n",
    "# 각 막대 위에 데이터 갯수 표시\n",
    "for bar in bars:\n",
    "    height = bar.get_height()\n",
    "    plt.text(bar.get_x() + bar.get_width() / 2, height, '%d' % height, ha='center', va='bottom')\n",
    "\n",
    "# 그래프 표시\n",
    "plt.show()\n"
   ]
  },
  {
   "cell_type": "code",
   "execution_count": 14,
   "id": "de7dc0f2-36cf-45df-8554-d7f47f0f7b76",
   "metadata": {},
   "outputs": [],
   "source": [
    "#data = pd.read_csv('C:/Users/trxgfcg/OneDrive/바탕 화면/big/IMDB.csv', encoding='latin1')\n"
   ]
  },
  {
   "cell_type": "code",
   "execution_count": 15,
   "id": "1fe333a9-94be-4f29-b9d2-0b0d2bfc820e",
   "metadata": {},
   "outputs": [
    {
     "name": "stdout",
     "output_type": "stream",
     "text": [
      "v2열의 유니크한 값 : 38612\n"
     ]
    }
   ],
   "source": [
    "print('v2열의 유니크한 값 :',data['review'].nunique())"
   ]
  },
  {
   "cell_type": "code",
   "execution_count": 16,
   "id": "df0f3990-3d85-4859-8113-81e3bcf15f05",
   "metadata": {},
   "outputs": [
    {
     "name": "stdout",
     "output_type": "stream",
     "text": [
      "총 샘플의 수 : 38612\n"
     ]
    }
   ],
   "source": [
    "data.drop_duplicates(subset=['review'], inplace=True)\n",
    "print('총 샘플의 수 :',len(data))"
   ]
  },
  {
   "cell_type": "code",
   "execution_count": 17,
   "id": "e2e7131f-6f88-445b-9282-e27f944e9ccb",
   "metadata": {},
   "outputs": [],
   "source": [
    "\n",
    "#real = pd.read_csv('C:/Users/trxgfcg/OneDrive/바탕 화면/big/review_realtotal.csv')"
   ]
  },
  {
   "cell_type": "code",
   "execution_count": 18,
   "id": "bfc9605e-cfb5-4917-a36b-abee6903730b",
   "metadata": {},
   "outputs": [],
   "source": [
    "#print('v2열의 유니크한 값 :',real['element_text'].nunique())"
   ]
  },
  {
   "cell_type": "code",
   "execution_count": 19,
   "id": "c4217215-1e1f-41f3-821f-e6d154d76bca",
   "metadata": {},
   "outputs": [],
   "source": [
    "#real.drop_duplicates(subset=['element_text'], inplace=True)\n",
    "#print('총 샘플의 수 :',len(real))"
   ]
  },
  {
   "cell_type": "code",
   "execution_count": 20,
   "id": "68bda4f8-987f-4999-93f4-0d62ba806438",
   "metadata": {},
   "outputs": [
    {
     "name": "stdout",
     "output_type": "stream",
     "text": [
      "메일 본문의 개수: 38612\n",
      "레이블의 개수: 38612\n"
     ]
    }
   ],
   "source": [
    "X_data = data['review']\n",
    "y_data = data['sentiment']\n",
    "print('메일 본문의 개수: {}'.format(len(X_data)))\n",
    "print('레이블의 개수: {}'.format(len(y_data)))\n"
   ]
  },
  {
   "cell_type": "code",
   "execution_count": 21,
   "id": "07bb74ad-348d-44ba-b690-4af923e0e8c3",
   "metadata": {},
   "outputs": [],
   "source": [
    "x_train, x_valid, y_train, y_valid= train_test_split(X_data, y_data, test_size=0.2, random_state=42)"
   ]
  },
  {
   "cell_type": "code",
   "execution_count": 22,
   "id": "7bd8cd08-479a-43bd-8030-febbc1f64799",
   "metadata": {},
   "outputs": [],
   "source": [
    "x_train.fillna('', inplace=True)"
   ]
  },
  {
   "cell_type": "code",
   "execution_count": 23,
   "id": "ae13a7e8-5168-40f1-88d9-2111287b702a",
   "metadata": {},
   "outputs": [
    {
     "name": "stdout",
     "output_type": "stream",
     "text": [
      "(30889, 84571)\n"
     ]
    }
   ],
   "source": [
    "dtmvector = CountVectorizer()\n",
    "X_train_dtm = dtmvector.fit_transform(x_train)\n",
    "print(X_train_dtm.shape)"
   ]
  },
  {
   "cell_type": "code",
   "execution_count": 24,
   "id": "3dae03d7-e6d5-401d-84e4-89c7e29565ff",
   "metadata": {},
   "outputs": [
    {
     "name": "stdout",
     "output_type": "stream",
     "text": [
      "(30889, 84571)\n"
     ]
    }
   ],
   "source": [
    "tfidf_transformer = TfidfTransformer()\n",
    "tfidfv = tfidf_transformer.fit_transform(X_train_dtm)\n",
    "print(tfidfv.shape)"
   ]
  },
  {
   "cell_type": "code",
   "execution_count": 25,
   "id": "33ac9424-b63b-499e-9236-a6d685a43d28",
   "metadata": {},
   "outputs": [],
   "source": [
    "mod = MultinomialNB()\n",
    "orginal = mod.fit(tfidfv, y_train)"
   ]
  },
  {
   "cell_type": "code",
   "execution_count": 26,
   "id": "cfde2583-0b50-40ef-a125-861a8c341dd9",
   "metadata": {},
   "outputs": [
    {
     "data": {
      "text/html": [
       "<style>#sk-container-id-1 {color: black;background-color: white;}#sk-container-id-1 pre{padding: 0;}#sk-container-id-1 div.sk-toggleable {background-color: white;}#sk-container-id-1 label.sk-toggleable__label {cursor: pointer;display: block;width: 100%;margin-bottom: 0;padding: 0.3em;box-sizing: border-box;text-align: center;}#sk-container-id-1 label.sk-toggleable__label-arrow:before {content: \"▸\";float: left;margin-right: 0.25em;color: #696969;}#sk-container-id-1 label.sk-toggleable__label-arrow:hover:before {color: black;}#sk-container-id-1 div.sk-estimator:hover label.sk-toggleable__label-arrow:before {color: black;}#sk-container-id-1 div.sk-toggleable__content {max-height: 0;max-width: 0;overflow: hidden;text-align: left;background-color: #f0f8ff;}#sk-container-id-1 div.sk-toggleable__content pre {margin: 0.2em;color: black;border-radius: 0.25em;background-color: #f0f8ff;}#sk-container-id-1 input.sk-toggleable__control:checked~div.sk-toggleable__content {max-height: 200px;max-width: 100%;overflow: auto;}#sk-container-id-1 input.sk-toggleable__control:checked~label.sk-toggleable__label-arrow:before {content: \"▾\";}#sk-container-id-1 div.sk-estimator input.sk-toggleable__control:checked~label.sk-toggleable__label {background-color: #d4ebff;}#sk-container-id-1 div.sk-label input.sk-toggleable__control:checked~label.sk-toggleable__label {background-color: #d4ebff;}#sk-container-id-1 input.sk-hidden--visually {border: 0;clip: rect(1px 1px 1px 1px);clip: rect(1px, 1px, 1px, 1px);height: 1px;margin: -1px;overflow: hidden;padding: 0;position: absolute;width: 1px;}#sk-container-id-1 div.sk-estimator {font-family: monospace;background-color: #f0f8ff;border: 1px dotted black;border-radius: 0.25em;box-sizing: border-box;margin-bottom: 0.5em;}#sk-container-id-1 div.sk-estimator:hover {background-color: #d4ebff;}#sk-container-id-1 div.sk-parallel-item::after {content: \"\";width: 100%;border-bottom: 1px solid gray;flex-grow: 1;}#sk-container-id-1 div.sk-label:hover label.sk-toggleable__label {background-color: #d4ebff;}#sk-container-id-1 div.sk-serial::before {content: \"\";position: absolute;border-left: 1px solid gray;box-sizing: border-box;top: 0;bottom: 0;left: 50%;z-index: 0;}#sk-container-id-1 div.sk-serial {display: flex;flex-direction: column;align-items: center;background-color: white;padding-right: 0.2em;padding-left: 0.2em;position: relative;}#sk-container-id-1 div.sk-item {position: relative;z-index: 1;}#sk-container-id-1 div.sk-parallel {display: flex;align-items: stretch;justify-content: center;background-color: white;position: relative;}#sk-container-id-1 div.sk-item::before, #sk-container-id-1 div.sk-parallel-item::before {content: \"\";position: absolute;border-left: 1px solid gray;box-sizing: border-box;top: 0;bottom: 0;left: 50%;z-index: -1;}#sk-container-id-1 div.sk-parallel-item {display: flex;flex-direction: column;z-index: 1;position: relative;background-color: white;}#sk-container-id-1 div.sk-parallel-item:first-child::after {align-self: flex-end;width: 50%;}#sk-container-id-1 div.sk-parallel-item:last-child::after {align-self: flex-start;width: 50%;}#sk-container-id-1 div.sk-parallel-item:only-child::after {width: 0;}#sk-container-id-1 div.sk-dashed-wrapped {border: 1px dashed gray;margin: 0 0.4em 0.5em 0.4em;box-sizing: border-box;padding-bottom: 0.4em;background-color: white;}#sk-container-id-1 div.sk-label label {font-family: monospace;font-weight: bold;display: inline-block;line-height: 1.2em;}#sk-container-id-1 div.sk-label-container {text-align: center;}#sk-container-id-1 div.sk-container {/* jupyter's `normalize.less` sets `[hidden] { display: none; }` but bootstrap.min.css set `[hidden] { display: none !important; }` so we also need the `!important` here to be able to override the default hidden behavior on the sphinx rendered scikit-learn.org. See: https://github.com/scikit-learn/scikit-learn/issues/21755 */display: inline-block !important;position: relative;}#sk-container-id-1 div.sk-text-repr-fallback {display: none;}</style><div id=\"sk-container-id-1\" class=\"sk-top-container\"><div class=\"sk-text-repr-fallback\"><pre>MultinomialNB()</pre><b>In a Jupyter environment, please rerun this cell to show the HTML representation or trust the notebook. <br />On GitHub, the HTML representation is unable to render, please try loading this page with nbviewer.org.</b></div><div class=\"sk-container\" hidden><div class=\"sk-item\"><div class=\"sk-estimator sk-toggleable\"><input class=\"sk-toggleable__control sk-hidden--visually\" id=\"sk-estimator-id-1\" type=\"checkbox\" checked><label for=\"sk-estimator-id-1\" class=\"sk-toggleable__label sk-toggleable__label-arrow\">MultinomialNB</label><div class=\"sk-toggleable__content\"><pre>MultinomialNB()</pre></div></div></div></div></div>"
      ],
      "text/plain": [
       "MultinomialNB()"
      ]
     },
     "execution_count": 26,
     "metadata": {},
     "output_type": "execute_result"
    }
   ],
   "source": [
    "MultinomialNB(alpha=1.0, class_prior=None, fit_prior=True)"
   ]
  },
  {
   "cell_type": "code",
   "execution_count": 27,
   "id": "85f3031b-23cc-4363-80b5-691694280ec2",
   "metadata": {},
   "outputs": [
    {
     "name": "stdout",
     "output_type": "stream",
     "text": [
      "정확도: 0.7234235400751003\n"
     ]
    }
   ],
   "source": [
    "import pandas as pd\n",
    "from sklearn.feature_extraction.text import CountVectorizer\n",
    "\n",
    "# 결측치를 빈 문자열로 대체\n",
    "x_valid.fillna('', inplace=True)\n",
    "\n",
    "# CountVectorizer로 변환\n",
    "X_test_dtm = dtmvector.transform(x_valid)\n",
    "tfidfv_test = tfidf_transformer.transform(X_test_dtm)\n",
    "\n",
    "predicted = mod.predict(tfidfv_test)  # 테스트 데이터에 대한 예측\n",
    "print(\"정확도:\", accuracy_score(y_valid, predicted)) #예측값과 실제값 비교"
   ]
  },
  {
   "cell_type": "code",
   "execution_count": 28,
   "id": "3597e94e-1723-4744-bc18-db0532a3edc3",
   "metadata": {},
   "outputs": [
    {
     "name": "stdout",
     "output_type": "stream",
     "text": [
      "F1-score: 0.38408304498269896\n"
     ]
    }
   ],
   "source": [
    "from sklearn.metrics import f1_score\n",
    "\n",
    "f1 = f1_score(y_valid, predicted)\n",
    "\n",
    "print(\"F1-score:\", f1)"
   ]
  },
  {
   "cell_type": "code",
   "execution_count": 29,
   "id": "784d8fc0-ccd9-4f87-a6b0-de3eb210c7d5",
   "metadata": {},
   "outputs": [
    {
     "name": "stdout",
     "output_type": "stream",
     "text": [
      "F1-score=0.38408304498269896\n"
     ]
    }
   ],
   "source": [
    "original_f1 = f1_score(y_valid, predicted)\n",
    "print(f\"F1-score={original_f1}\")"
   ]
  },
  {
   "cell_type": "code",
   "execution_count": null,
   "id": "98753316-83ad-474c-b0cb-2eadb972c6f4",
   "metadata": {},
   "outputs": [],
   "source": []
  },
  {
   "cell_type": "code",
   "execution_count": 30,
   "id": "c87fc090-ac8d-4013-977c-5538d681741b",
   "metadata": {},
   "outputs": [],
   "source": [
    "df_test = pd.concat([x_valid, y_valid], axis=1)"
   ]
  },
  {
   "cell_type": "code",
   "execution_count": 31,
   "id": "1647b253-eed7-4055-97a6-0b2f4914ba2d",
   "metadata": {},
   "outputs": [],
   "source": [
    "df_train = pd.concat([x_train, y_train], axis=1)"
   ]
  },
  {
   "cell_type": "code",
   "execution_count": 32,
   "id": "67574158-2bac-4b37-a629-fe055b584723",
   "metadata": {},
   "outputs": [],
   "source": [
    "def print_class_num(df, label_name):            # 이진 클래스의 비율을 알아보기 위한 함수\n",
    "  n_total = len(df)                             # 데이터의 총 개수\n",
    "  n_neg = len(df.query(label_name + ' == 1'))   # label로 사용하는 열의 1 개수\n",
    "  n_pos = len(df.query(label_name + ' == 0'))   # label로 사용하는 열의 0 개수\n",
    "\n",
    "  print(\"부정 댓글: {}개, {:.2f}%\".format(n_neg, n_neg*100/n_total))\n",
    "  print(\"긍정 댓글: {}개, {:.2f}%\\n\".format(n_pos, n_pos*100/n_total))\n",
    "\n",
    "  values = df[label_name].value_counts()        # label로 사용하는 열의 값을 카운트\n",
    "  values.plot(kind='bar')\n",
    "  print(values)"
   ]
  },
  {
   "cell_type": "code",
   "execution_count": 33,
   "id": "a1b3cf1a-459b-4b7b-947b-131974f89d90",
   "metadata": {},
   "outputs": [
    {
     "data": {
      "text/html": [
       "<div>\n",
       "<style scoped>\n",
       "    .dataframe tbody tr th:only-of-type {\n",
       "        vertical-align: middle;\n",
       "    }\n",
       "\n",
       "    .dataframe tbody tr th {\n",
       "        vertical-align: top;\n",
       "    }\n",
       "\n",
       "    .dataframe thead th {\n",
       "        text-align: right;\n",
       "    }\n",
       "</style>\n",
       "<table border=\"1\" class=\"dataframe\">\n",
       "  <thead>\n",
       "    <tr style=\"text-align: right;\">\n",
       "      <th></th>\n",
       "      <th>review</th>\n",
       "      <th>sentiment</th>\n",
       "    </tr>\n",
       "  </thead>\n",
       "  <tbody>\n",
       "    <tr>\n",
       "      <th>45112</th>\n",
       "      <td>Firstly , heard great things film , least amon...</td>\n",
       "      <td>0</td>\n",
       "    </tr>\n",
       "    <tr>\n",
       "      <th>36926</th>\n",
       "      <td>really tried like movie end n't work . seen Ki...</td>\n",
       "      <td>1</td>\n",
       "    </tr>\n",
       "    <tr>\n",
       "      <th>40907</th>\n",
       "      <td>think great funny movie . story funny . daught...</td>\n",
       "      <td>0</td>\n",
       "    </tr>\n",
       "    <tr>\n",
       "      <th>42992</th>\n",
       "      <td>Everything `` Choose Connor '' top=drawer , es...</td>\n",
       "      <td>0</td>\n",
       "    </tr>\n",
       "    <tr>\n",
       "      <th>7316</th>\n",
       "      <td>Ted 's Bodacious journey existential trip them...</td>\n",
       "      <td>0</td>\n",
       "    </tr>\n",
       "    <tr>\n",
       "      <th>...</th>\n",
       "      <td>...</td>\n",
       "      <td>...</td>\n",
       "    </tr>\n",
       "    <tr>\n",
       "      <th>38913</th>\n",
       "      <td>Human Traffic purely ` , done ' experience Â ...</td>\n",
       "      <td>1</td>\n",
       "    </tr>\n",
       "    <tr>\n",
       "      <th>46885</th>\n",
       "      <td>Emraan Hashmi post MURDER good roles Bhatt fil...</td>\n",
       "      <td>1</td>\n",
       "    </tr>\n",
       "    <tr>\n",
       "      <th>31828</th>\n",
       "      <td>film started cinematic love affair &lt; br / &gt; &lt; ...</td>\n",
       "      <td>0</td>\n",
       "    </tr>\n",
       "    <tr>\n",
       "      <th>49901</th>\n",
       "      <td>program lot fun title song catchy ca n't get h...</td>\n",
       "      <td>0</td>\n",
       "    </tr>\n",
       "    <tr>\n",
       "      <th>14297</th>\n",
       "      <td>Definitely film revolutionize industry introdu...</td>\n",
       "      <td>0</td>\n",
       "    </tr>\n",
       "  </tbody>\n",
       "</table>\n",
       "<p>7723 rows × 2 columns</p>\n",
       "</div>"
      ],
      "text/plain": [
       "                                                  review  sentiment\n",
       "45112  Firstly , heard great things film , least amon...          0\n",
       "36926  really tried like movie end n't work . seen Ki...          1\n",
       "40907  think great funny movie . story funny . daught...          0\n",
       "42992  Everything `` Choose Connor '' top=drawer , es...          0\n",
       "7316   Ted 's Bodacious journey existential trip them...          0\n",
       "...                                                  ...        ...\n",
       "38913  Human Traffic purely ` , done ' experience Â ...          1\n",
       "46885  Emraan Hashmi post MURDER good roles Bhatt fil...          1\n",
       "31828  film started cinematic love affair < br / > < ...          0\n",
       "49901  program lot fun title song catchy ca n't get h...          0\n",
       "14297  Definitely film revolutionize industry introdu...          0\n",
       "\n",
       "[7723 rows x 2 columns]"
      ]
     },
     "execution_count": 33,
     "metadata": {},
     "output_type": "execute_result"
    }
   ],
   "source": [
    "df_test"
   ]
  },
  {
   "cell_type": "code",
   "execution_count": 34,
   "id": "a67660c5-d13f-47c9-b024-0a12ac3c62ed",
   "metadata": {},
   "outputs": [
    {
     "name": "stdout",
     "output_type": "stream",
     "text": [
      "sampling_strategy=0.7: F1-score=0.4808211777417612\n",
      "sampling_strategy=0.8: F1-score=0.7716405605935696\n",
      "sampling_strategy=0.9: F1-score=0.8166877370417194\n",
      "sampling_strategy=1.0: F1-score=0.8193909695484773\n"
     ]
    }
   ],
   "source": [
    "from imblearn.over_sampling import ADASYN\n",
    "from sklearn.naive_bayes import MultinomialNB\n",
    "from sklearn.metrics import accuracy_score\n",
    "\n",
    "Amodels = []\n",
    "f1_scores_A = [] \n",
    "# 테스트 데이터를 TF-IDF로 변환\n",
    "X_test_dtm = dtmvector.transform(x_valid)\n",
    "tfidfv_test = tfidf_transformer.transform(X_test_dtm)\n",
    "\n",
    "# ADASYN을 사용하여 오버샘플링하고 정확도 측정\n",
    "for i in range(7, 11):\n",
    "    # ADASYN을 사용하여 오버샘플링\n",
    "    adasyn = ADASYN(sampling_strategy=i/10)\n",
    "    X_train_adasyn, y_train_adasyn = adasyn.fit_resample(tfidfv, y_train)\n",
    "\n",
    "    # 모델 학습\n",
    "    mod = MultinomialNB()\n",
    "    mod.fit(X_train_adasyn, y_train_adasyn)\n",
    "    \n",
    "    #모델추가\n",
    "    Amodels.append(mod)\n",
    "\n",
    "    # 예측\n",
    "    predicted = mod.predict(tfidfv_test)\n",
    "\n",
    "    # F1-score 출력\n",
    "    f1 = f1_score(y_valid, predicted)\n",
    "    f1_scores_A.append(f1)\n",
    "    print(f\"sampling_strategy={i/10}: F1-score={f1}\")\n"
   ]
  },
  {
   "cell_type": "code",
   "execution_count": 35,
   "id": "b8806c7a-7c3b-48a8-bbd1-90303fe91863",
   "metadata": {},
   "outputs": [
    {
     "data": {
      "image/png": "[encoded data removed]",
      "text/plain": [
       "<Figure size 640x480 with 1 Axes>"
      ]
     },
     "metadata": {},
     "output_type": "display_data"
    }
   ],
   "source": [
    "import matplotlib.pyplot as plt\n",
    "\n",
    "sampling_strategies = [i/10 for i in range(7, 11)]\n",
    "plt.plot(sampling_strategies, f1_scores_A, marker='x')\n",
    "#plt.plot(sampling_strategies, f1_scores_B, marker='x')\n",
    "#plt.plot(sampling_strategies, f1_scores_S, marker='x')\n",
    "\n",
    "#plt.plot(sampling_strategies, f1_scores_A, marker='o')\n",
    "plt.title('F1 Score vs Sampling Strategy')\n",
    "plt.xlabel('Sampling Strategy')\n",
    "plt.ylabel('F1 Score')\n",
    "plt.grid(True)\n",
    "#plt.ylim(0.91, 0.96)\n",
    "\n",
    "plt.show()\n"
   ]
  },
  {
   "cell_type": "code",
   "execution_count": 36,
   "id": "f674af1b-a44d-4286-982d-f2b6bfbd17f1",
   "metadata": {},
   "outputs": [
    {
     "name": "stdout",
     "output_type": "stream",
     "text": [
      "sampling_strategy=0.7: F1-score=0.7056705670567057\n",
      "sampling_strategy=0.8: F1-score=0.7818731117824773\n",
      "sampling_strategy=0.9: F1-score=0.8122464035411288\n",
      "sampling_strategy=1.0: F1-score=0.8126070572113737\n"
     ]
    }
   ],
   "source": [
    "from imblearn.over_sampling import ADASYN\n",
    "from sklearn.naive_bayes import MultinomialNB\n",
    "from sklearn.metrics import accuracy_score\n",
    "from sklearn.metrics import f1_score\n",
    "\n",
    "f1_scores_S = [] \n",
    "# 테스트 데이터를 TF-IDF로 변환\n",
    "X_test_dtm = dtmvector.transform(x_valid)\n",
    "tfidfv_test = tfidf_transformer.transform(X_test_dtm)\n",
    "\n",
    "Smodels = []\n",
    "\n",
    "# ADASYN을 사용하여 오버샘플링하고 정확도 측정\n",
    "for i in range(7, 11):\n",
    "    # ADASYN을 사용하여 오버샘플링\n",
    "    smote = SMOTE(sampling_strategy=i/10)\n",
    "    X_train_smote, y_train_smote = smote.fit_resample(tfidfv, y_train)\n",
    "\n",
    "    # 모델 학습\n",
    "    mod = MultinomialNB()\n",
    "    mod.fit(X_train_smote, y_train_smote)\n",
    "    # 생성된 모델을 리스트에 추가\n",
    "    Smodels.append(mod)\n",
    "\n",
    "    # 예측\n",
    "    predicted = mod.predict(tfidfv_test)\n",
    "\n",
    "\n",
    "   # F1-score 출력\n",
    "    f1 = f1_score(y_valid, predicted)\n",
    "    f1_scores_S.append(f1)\n",
    "    print(f\"sampling_strategy={i/10}: F1-score={f1}\")\n"
   ]
  },
  {
   "cell_type": "code",
   "execution_count": 37,
   "id": "ad12ea1c-6b62-48ac-abe7-333ef33abde0",
   "metadata": {},
   "outputs": [
    {
     "data": {
      "image/png": "[encoded data removed]",
      "text/plain": [
       "<Figure size 640x480 with 1 Axes>"
      ]
     },
     "metadata": {},
     "output_type": "display_data"
    }
   ],
   "source": [
    "import matplotlib.pyplot as plt\n",
    "\n",
    "sampling_strategies = [i/10 for i in range(7, 11)]\n",
    "\n",
    "plt.plot(sampling_strategies, f1_scores_S, marker='o')\n",
    "plt.title('F1 Score vs Sampling Strategy')\n",
    "plt.xlabel('Sampling Strategy')\n",
    "plt.ylabel('F1 Score')\n",
    "plt.grid(True)\n",
    "\n",
    "#plt.ylim(0.9, 0.96)\n",
    "plt.axhline(y=original_f1, color='r', linestyle='--')\n",
    "\n",
    "plt.show()\n"
   ]
  },
  {
   "cell_type": "code",
   "execution_count": 38,
   "id": "36c98f26-865b-4519-8bde-38f50b3de86d",
   "metadata": {},
   "outputs": [
    {
     "name": "stdout",
     "output_type": "stream",
     "text": [
      "sampling_strategy=0.7: F1-score=0.7030439684329199\n",
      "sampling_strategy=0.8: F1-score=0.7840451248992748\n",
      "sampling_strategy=0.9: F1-score=0.8209366391184574\n",
      "sampling_strategy=1.0: F1-score=0.8165199729180771\n"
     ]
    }
   ],
   "source": [
    "from imblearn.over_sampling import ADASYN\n",
    "from sklearn.naive_bayes import MultinomialNB\n",
    "from sklearn.metrics import accuracy_score\n",
    "f1_scores_B = [] \n",
    "Bmodels = [] \n",
    "\n",
    "# 테스트 데이터를 TF-IDF로 변환\n",
    "X_test_dtm = dtmvector.transform(x_valid)\n",
    "tfidfv_test = tfidf_transformer.transform(X_test_dtm)\n",
    "\n",
    "# ADASYN을 사용하여 오버샘플링하고 정확도 측정\n",
    "for i in range(7, 11):\n",
    "    # ADASYN을 사용하여 오버샘플링\n",
    "    Bsmote = BorderlineSMOTE(sampling_strategy=i/10)\n",
    "    X_train_B, y_train_B = Bsmote.fit_resample(tfidfv, y_train)\n",
    "\n",
    "    # 모델 학습\n",
    "    mod = MultinomialNB()\n",
    "    mod.fit(X_train_B, y_train_B)\n",
    "    # 생성된 모델을 리스트에 추가\n",
    "    Bmodels.append(mod)\n",
    "\n",
    "    # 예측\n",
    "    predicted = mod.predict(tfidfv_test)\n",
    "\n",
    "    # F1-score 출력\n",
    "    f1 = f1_score(y_valid, predicted)\n",
    "    f1_scores_B.append(f1)\n",
    "    print(f\"sampling_strategy={i/10}: F1-score={f1}\")\n"
   ]
  },
  {
   "cell_type": "code",
   "execution_count": 39,
   "id": "b339d3fb-b68f-4ccf-b42d-59ecad73cd19",
   "metadata": {},
   "outputs": [
    {
     "data": {
      "image/png": "[encoded data removed]",
      "text/plain": [
       "<Figure size 640x480 with 1 Axes>"
      ]
     },
     "metadata": {},
     "output_type": "display_data"
    }
   ],
   "source": [
    "import matplotlib.pyplot as plt\n",
    "\n",
    "sampling_strategies = [i/10 for i in range(7, 11)]\n",
    "\n",
    "plt.plot(sampling_strategies, f1_scores_B, marker='o')\n",
    "plt.title('F1 Score vs Sampling Strategy')\n",
    "plt.xlabel('Sampling Strategy')\n",
    "plt.ylabel('F1 Score')\n",
    "plt.grid(True)\n",
    "\n",
    "#plt.ylim(0.9, 0.96)\n",
    "#plt.axhline(y=original_f1, color='r', linestyle='--')\n",
    "\n",
    "plt.show()\n"
   ]
  },
  {
   "cell_type": "code",
   "execution_count": 55,
   "id": "b16dde6e-71c8-42af-b84b-157d882e61fe",
   "metadata": {},
   "outputs": [
    {
     "data": {
      "image/png": "[encoded data removed]",
      "text/plain": [
       "<Figure size 640x480 with 1 Axes>"
      ]
     },
     "metadata": {},
     "output_type": "display_data"
    }
   ],
   "source": [
    "import matplotlib.pyplot as plt\n",
    "\n",
    "sampling_strategies = [i/10 for i in range(7, 11)]\n",
    "\n",
    "plt.plot(sampling_strategies, f1_scores_A, marker='o', linestyle='-', label='ADASYN')\n",
    "plt.plot(sampling_strategies, f1_scores_B, marker='x', linestyle='--', label='Borderline_SMOTE')\n",
    "plt.plot(sampling_strategies, f1_scores_S, marker='s', linestyle='-.', label='SMOTE')\n",
    "\n",
    "#plt.plot(sampling_strategies, f1_scores_A, marker='o')\n",
    "plt.title('Flipkart')\n",
    "plt.xlabel('Sampling Strategy')\n",
    "plt.ylabel('F1 Score')\n",
    "plt.grid(True)\n",
    "#plt.ylim(0.91, 0.96)\n",
    "#plt.axhline(y=original_f1, color='r', linestyle='--')\n",
    "#plt.text(0.75, 0.27, 'Original F1-score'+str(round(original_f1,3)), color='red', fontsize=11)\n",
    "plt.legend()\n",
    "plt.savefig('C:/Users/trxgfcg/OneDrive/바탕 화면/학위논문_배경득/Flipkart_result_no.png')\n",
    "\n",
    "plt.show()\n"
   ]
  },
  {
   "cell_type": "code",
   "execution_count": 41,
   "id": "3107f523-92c2-432e-bf57-c85aac67e4ba",
   "metadata": {},
   "outputs": [
    {
     "data": {
      "text/html": [
       "<div>\n",
       "<style scoped>\n",
       "    .dataframe tbody tr th:only-of-type {\n",
       "        vertical-align: middle;\n",
       "    }\n",
       "\n",
       "    .dataframe tbody tr th {\n",
       "        vertical-align: top;\n",
       "    }\n",
       "\n",
       "    .dataframe thead th {\n",
       "        text-align: right;\n",
       "    }\n",
       "</style>\n",
       "<table border=\"1\" class=\"dataframe\">\n",
       "  <thead>\n",
       "    <tr style=\"text-align: right;\">\n",
       "      <th></th>\n",
       "      <th>review</th>\n",
       "      <th>sentiment</th>\n",
       "    </tr>\n",
       "  </thead>\n",
       "  <tbody>\n",
       "    <tr>\n",
       "      <th>0</th>\n",
       "      <td>One of the other reviewers has mentioned that ...</td>\n",
       "      <td>positive</td>\n",
       "    </tr>\n",
       "    <tr>\n",
       "      <th>1</th>\n",
       "      <td>A wonderful little production. &lt;br /&gt;&lt;br /&gt;The...</td>\n",
       "      <td>positive</td>\n",
       "    </tr>\n",
       "    <tr>\n",
       "      <th>2</th>\n",
       "      <td>I thought this was a wonderful way to spend ti...</td>\n",
       "      <td>positive</td>\n",
       "    </tr>\n",
       "    <tr>\n",
       "      <th>3</th>\n",
       "      <td>Basically there's a family where a little boy ...</td>\n",
       "      <td>negative</td>\n",
       "    </tr>\n",
       "    <tr>\n",
       "      <th>4</th>\n",
       "      <td>Petter Mattei's \"Love in the Time of Money\" is...</td>\n",
       "      <td>positive</td>\n",
       "    </tr>\n",
       "    <tr>\n",
       "      <th>...</th>\n",
       "      <td>...</td>\n",
       "      <td>...</td>\n",
       "    </tr>\n",
       "    <tr>\n",
       "      <th>49995</th>\n",
       "      <td>I thought this movie did a down right good job...</td>\n",
       "      <td>positive</td>\n",
       "    </tr>\n",
       "    <tr>\n",
       "      <th>49996</th>\n",
       "      <td>Bad plot, bad dialogue, bad acting, idiotic di...</td>\n",
       "      <td>negative</td>\n",
       "    </tr>\n",
       "    <tr>\n",
       "      <th>49997</th>\n",
       "      <td>I am a Catholic taught in parochial elementary...</td>\n",
       "      <td>negative</td>\n",
       "    </tr>\n",
       "    <tr>\n",
       "      <th>49998</th>\n",
       "      <td>I'm going to have to disagree with the previou...</td>\n",
       "      <td>negative</td>\n",
       "    </tr>\n",
       "    <tr>\n",
       "      <th>49999</th>\n",
       "      <td>No one expects the Star Trek movies to be high...</td>\n",
       "      <td>negative</td>\n",
       "    </tr>\n",
       "  </tbody>\n",
       "</table>\n",
       "<p>50000 rows × 2 columns</p>\n",
       "</div>"
      ],
      "text/plain": [
       "                                                  review sentiment\n",
       "0      One of the other reviewers has mentioned that ...  positive\n",
       "1      A wonderful little production. <br /><br />The...  positive\n",
       "2      I thought this was a wonderful way to spend ti...  positive\n",
       "3      Basically there's a family where a little boy ...  negative\n",
       "4      Petter Mattei's \"Love in the Time of Money\" is...  positive\n",
       "...                                                  ...       ...\n",
       "49995  I thought this movie did a down right good job...  positive\n",
       "49996  Bad plot, bad dialogue, bad acting, idiotic di...  negative\n",
       "49997  I am a Catholic taught in parochial elementary...  negative\n",
       "49998  I'm going to have to disagree with the previou...  negative\n",
       "49999  No one expects the Star Trek movies to be high...  negative\n",
       "\n",
       "[50000 rows x 2 columns]"
      ]
     },
     "execution_count": 41,
     "metadata": {},
     "output_type": "execute_result"
    }
   ],
   "source": [
    "import pandas as pd\n",
    "data = pd.read_csv('C:/Users/trxgfcg/OneDrive/바탕 화면/big/Flipkart.csv', encoding='latin1')\n",
    "\n",
    "data"
   ]
  },
  {
   "cell_type": "code",
   "execution_count": 42,
   "id": "f07dea3b-e0dd-4505-a703-498068db1315",
   "metadata": {},
   "outputs": [
    {
     "data": {
      "text/html": [
       "<div>\n",
       "<style scoped>\n",
       "    .dataframe tbody tr th:only-of-type {\n",
       "        vertical-align: middle;\n",
       "    }\n",
       "\n",
       "    .dataframe tbody tr th {\n",
       "        vertical-align: top;\n",
       "    }\n",
       "\n",
       "    .dataframe thead th {\n",
       "        text-align: right;\n",
       "    }\n",
       "</style>\n",
       "<table border=\"1\" class=\"dataframe\">\n",
       "  <thead>\n",
       "    <tr style=\"text-align: right;\">\n",
       "      <th></th>\n",
       "      <th>review</th>\n",
       "      <th>sentiment</th>\n",
       "    </tr>\n",
       "  </thead>\n",
       "  <tbody>\n",
       "    <tr>\n",
       "      <th>0</th>\n",
       "      <td>One of the other reviewers has mentioned that ...</td>\n",
       "      <td>0</td>\n",
       "    </tr>\n",
       "    <tr>\n",
       "      <th>1</th>\n",
       "      <td>A wonderful little production. &lt;br /&gt;&lt;br /&gt;The...</td>\n",
       "      <td>0</td>\n",
       "    </tr>\n",
       "    <tr>\n",
       "      <th>2</th>\n",
       "      <td>I thought this was a wonderful way to spend ti...</td>\n",
       "      <td>0</td>\n",
       "    </tr>\n",
       "    <tr>\n",
       "      <th>3</th>\n",
       "      <td>Basically there's a family where a little boy ...</td>\n",
       "      <td>1</td>\n",
       "    </tr>\n",
       "    <tr>\n",
       "      <th>4</th>\n",
       "      <td>Petter Mattei's \"Love in the Time of Money\" is...</td>\n",
       "      <td>0</td>\n",
       "    </tr>\n",
       "  </tbody>\n",
       "</table>\n",
       "</div>"
      ],
      "text/plain": [
       "                                              review  sentiment\n",
       "0  One of the other reviewers has mentioned that ...          0\n",
       "1  A wonderful little production. <br /><br />The...          0\n",
       "2  I thought this was a wonderful way to spend ti...          0\n",
       "3  Basically there's a family where a little boy ...          1\n",
       "4  Petter Mattei's \"Love in the Time of Money\" is...          0"
      ]
     },
     "execution_count": 42,
     "metadata": {},
     "output_type": "execute_result"
    }
   ],
   "source": [
    "#del data['Unnamed: 0']\n",
    "data['sentiment'] = data['sentiment'].replace(['positive','negative'],[0,1])\n",
    "data[:5]"
   ]
  },
  {
   "cell_type": "code",
   "execution_count": 43,
   "id": "840bcb81",
   "metadata": {},
   "outputs": [
    {
     "name": "stdout",
     "output_type": "stream",
     "text": [
      "메일 본문의 개수: 50000\n",
      "레이블의 개수: 50000\n"
     ]
    }
   ],
   "source": [
    "X_data = data['review']\n",
    "y_data = data['sentiment']\n",
    "print('메일 본문의 개수: {}'.format(len(X_data)))\n",
    "print('레이블의 개수: {}'.format(len(y_data)))\n"
   ]
  },
  {
   "cell_type": "code",
   "execution_count": 44,
   "id": "f3974cb5",
   "metadata": {},
   "outputs": [],
   "source": [
    "x_train, x_valid, y_train, y_valid= train_test_split(X_data, y_data, test_size=0.2, random_state=42)"
   ]
  },
  {
   "cell_type": "code",
   "execution_count": 45,
   "id": "d7549dbd",
   "metadata": {},
   "outputs": [],
   "source": [
    "x_train.fillna('', inplace=True)"
   ]
  },
  {
   "cell_type": "code",
   "execution_count": 46,
   "id": "76c8a3cb",
   "metadata": {},
   "outputs": [
    {
     "name": "stdout",
     "output_type": "stream",
     "text": [
      "(40000, 94062)\n"
     ]
    }
   ],
   "source": [
    "dtmvector = CountVectorizer()\n",
    "X_train_dtm = dtmvector.fit_transform(x_train)\n",
    "print(X_train_dtm.shape)"
   ]
  },
  {
   "cell_type": "code",
   "execution_count": 47,
   "id": "e338d551",
   "metadata": {},
   "outputs": [
    {
     "name": "stdout",
     "output_type": "stream",
     "text": [
      "(40000, 94062)\n"
     ]
    }
   ],
   "source": [
    "tfidf_transformer = TfidfTransformer()\n",
    "tfidfv = tfidf_transformer.fit_transform(X_train_dtm)\n",
    "print(tfidfv.shape)"
   ]
  },
  {
   "cell_type": "code",
   "execution_count": 48,
   "id": "6b1108bb",
   "metadata": {},
   "outputs": [],
   "source": [
    "mod = MultinomialNB()\n",
    "orginal = mod.fit(tfidfv, y_train)"
   ]
  },
  {
   "cell_type": "code",
   "execution_count": 49,
   "id": "fbfb472b",
   "metadata": {},
   "outputs": [
    {
     "data": {
      "text/html": [
       "<style>#sk-container-id-2 {color: black;background-color: white;}#sk-container-id-2 pre{padding: 0;}#sk-container-id-2 div.sk-toggleable {background-color: white;}#sk-container-id-2 label.sk-toggleable__label {cursor: pointer;display: block;width: 100%;margin-bottom: 0;padding: 0.3em;box-sizing: border-box;text-align: center;}#sk-container-id-2 label.sk-toggleable__label-arrow:before {content: \"▸\";float: left;margin-right: 0.25em;color: #696969;}#sk-container-id-2 label.sk-toggleable__label-arrow:hover:before {color: black;}#sk-container-id-2 div.sk-estimator:hover label.sk-toggleable__label-arrow:before {color: black;}#sk-container-id-2 div.sk-toggleable__content {max-height: 0;max-width: 0;overflow: hidden;text-align: left;background-color: #f0f8ff;}#sk-container-id-2 div.sk-toggleable__content pre {margin: 0.2em;color: black;border-radius: 0.25em;background-color: #f0f8ff;}#sk-container-id-2 input.sk-toggleable__control:checked~div.sk-toggleable__content {max-height: 200px;max-width: 100%;overflow: auto;}#sk-container-id-2 input.sk-toggleable__control:checked~label.sk-toggleable__label-arrow:before {content: \"▾\";}#sk-container-id-2 div.sk-estimator input.sk-toggleable__control:checked~label.sk-toggleable__label {background-color: #d4ebff;}#sk-container-id-2 div.sk-label input.sk-toggleable__control:checked~label.sk-toggleable__label {background-color: #d4ebff;}#sk-container-id-2 input.sk-hidden--visually {border: 0;clip: rect(1px 1px 1px 1px);clip: rect(1px, 1px, 1px, 1px);height: 1px;margin: -1px;overflow: hidden;padding: 0;position: absolute;width: 1px;}#sk-container-id-2 div.sk-estimator {font-family: monospace;background-color: #f0f8ff;border: 1px dotted black;border-radius: 0.25em;box-sizing: border-box;margin-bottom: 0.5em;}#sk-container-id-2 div.sk-estimator:hover {background-color: #d4ebff;}#sk-container-id-2 div.sk-parallel-item::after {content: \"\";width: 100%;border-bottom: 1px solid gray;flex-grow: 1;}#sk-container-id-2 div.sk-label:hover label.sk-toggleable__label {background-color: #d4ebff;}#sk-container-id-2 div.sk-serial::before {content: \"\";position: absolute;border-left: 1px solid gray;box-sizing: border-box;top: 0;bottom: 0;left: 50%;z-index: 0;}#sk-container-id-2 div.sk-serial {display: flex;flex-direction: column;align-items: center;background-color: white;padding-right: 0.2em;padding-left: 0.2em;position: relative;}#sk-container-id-2 div.sk-item {position: relative;z-index: 1;}#sk-container-id-2 div.sk-parallel {display: flex;align-items: stretch;justify-content: center;background-color: white;position: relative;}#sk-container-id-2 div.sk-item::before, #sk-container-id-2 div.sk-parallel-item::before {content: \"\";position: absolute;border-left: 1px solid gray;box-sizing: border-box;top: 0;bottom: 0;left: 50%;z-index: -1;}#sk-container-id-2 div.sk-parallel-item {display: flex;flex-direction: column;z-index: 1;position: relative;background-color: white;}#sk-container-id-2 div.sk-parallel-item:first-child::after {align-self: flex-end;width: 50%;}#sk-container-id-2 div.sk-parallel-item:last-child::after {align-self: flex-start;width: 50%;}#sk-container-id-2 div.sk-parallel-item:only-child::after {width: 0;}#sk-container-id-2 div.sk-dashed-wrapped {border: 1px dashed gray;margin: 0 0.4em 0.5em 0.4em;box-sizing: border-box;padding-bottom: 0.4em;background-color: white;}#sk-container-id-2 div.sk-label label {font-family: monospace;font-weight: bold;display: inline-block;line-height: 1.2em;}#sk-container-id-2 div.sk-label-container {text-align: center;}#sk-container-id-2 div.sk-container {/* jupyter's `normalize.less` sets `[hidden] { display: none; }` but bootstrap.min.css set `[hidden] { display: none !important; }` so we also need the `!important` here to be able to override the default hidden behavior on the sphinx rendered scikit-learn.org. See: https://github.com/scikit-learn/scikit-learn/issues/21755 */display: inline-block !important;position: relative;}#sk-container-id-2 div.sk-text-repr-fallback {display: none;}</style><div id=\"sk-container-id-2\" class=\"sk-top-container\"><div class=\"sk-text-repr-fallback\"><pre>MultinomialNB()</pre><b>In a Jupyter environment, please rerun this cell to show the HTML representation or trust the notebook. <br />On GitHub, the HTML representation is unable to render, please try loading this page with nbviewer.org.</b></div><div class=\"sk-container\" hidden><div class=\"sk-item\"><div class=\"sk-estimator sk-toggleable\"><input class=\"sk-toggleable__control sk-hidden--visually\" id=\"sk-estimator-id-2\" type=\"checkbox\" checked><label for=\"sk-estimator-id-2\" class=\"sk-toggleable__label sk-toggleable__label-arrow\">MultinomialNB</label><div class=\"sk-toggleable__content\"><pre>MultinomialNB()</pre></div></div></div></div></div>"
      ],
      "text/plain": [
       "MultinomialNB()"
      ]
     },
     "execution_count": 49,
     "metadata": {},
     "output_type": "execute_result"
    }
   ],
   "source": [
    "MultinomialNB(alpha=1.0, class_prior=None, fit_prior=True)"
   ]
  },
  {
   "cell_type": "code",
   "execution_count": 50,
   "id": "7ba33c0c",
   "metadata": {},
   "outputs": [
    {
     "name": "stdout",
     "output_type": "stream",
     "text": [
      "정확도: 0.8649\n"
     ]
    }
   ],
   "source": [
    "import pandas as pd\n",
    "from sklearn.feature_extraction.text import CountVectorizer\n",
    "\n",
    "# 결측치를 빈 문자열로 대체\n",
    "x_valid.fillna('', inplace=True)\n",
    "\n",
    "# CountVectorizer로 변환\n",
    "X_test_dtm = dtmvector.transform(x_valid)\n",
    "tfidfv_test = tfidf_transformer.transform(X_test_dtm)\n",
    "\n",
    "predicted = mod.predict(tfidfv_test)  # 테스트 데이터에 대한 예측\n",
    "print(\"정확도:\", accuracy_score(y_valid, predicted)) #예측값과 실제값 비교"
   ]
  },
  {
   "cell_type": "code",
   "execution_count": 51,
   "id": "501c6414",
   "metadata": {},
   "outputs": [
    {
     "name": "stdout",
     "output_type": "stream",
     "text": [
      "F1-score: 0.8672496806524518\n"
     ]
    }
   ],
   "source": [
    "from sklearn.metrics import f1_score\n",
    "\n",
    "f1 = f1_score(y_valid, predicted)\n",
    "\n",
    "print(\"F1-score:\", f1)"
   ]
  },
  {
   "cell_type": "code",
   "execution_count": null,
   "id": "2546c67c",
   "metadata": {},
   "outputs": [],
   "source": []
  }
 ],
 "metadata": {
  "kernelspec": {
   "display_name": "Python 3 (ipykernel)",
   "language": "python",
   "name": "python3"
  },
  "language_info": {
   "codemirror_mode": {
    "name": "ipython",
    "version": 3
   },
   "file_extension": ".py",
   "mimetype": "text/x-python",
   "name": "python",
   "nbconvert_exporter": "python",
   "pygments_lexer": "ipython3",
   "version": "3.11.7"
  }
 },
 "nbformat": 4,
 "nbformat_minor": 5
}
